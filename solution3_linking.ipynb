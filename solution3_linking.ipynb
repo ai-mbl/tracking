{
 "cells": [
  {
   "cell_type": "markdown",
   "id": "d957715b",
   "metadata": {},
   "source": [
    "# Exercise 2: Tracking-by-detection with an integer linear program (ILP)\n",
    "\n",
    "You could also run this notebook on your laptop, a GPU is not needed :).\n",
    "\n",
    "<div class=\"alert alert-danger\">\n",
    "Set your python kernel to <code>08-ilp-tracking</code>\n",
    "</div>\n",
    "\n",
    "You will learn\n",
    "- TODO\n",
    "\n",
    "Places where you are expected to write code are marked with\n",
    "```\n",
    "######################\n",
    "### YOUR CODE HERE ###\n",
    "######################\n",
    "```\n",
    "\n",
    "This notebook was originally written by Benjamin Gallusser."
   ]
  },
  {
   "cell_type": "markdown",
   "id": "9e62dc35-083f-49cf-b4b4-f916b3265de7",
   "metadata": {},
   "source": [
    "TODO remove\n",
    "1. Obligatory conda install the following packages to solve the environment:\n",
    "    - napari\n",
    "    - jupyter-lab\n",
    "    - conda install -c conda-forge -c gurobi -c funkelab ilpy\n",
    "1. Install motile directly from Github: `pip install git+https://github.com/funkelab/motile`"
   ]
  },
  {
   "cell_type": "markdown",
   "id": "dd566a93",
   "metadata": {
    "tags": []
   },
   "source": [
    "## Import packages"
   ]
  },
  {
   "cell_type": "code",
   "execution_count": null,
   "id": "9690ea9a",
   "metadata": {},
   "outputs": [],
   "source": [
    "# Notebook at full width in the browser\n",
    "from IPython.display import display, HTML\n",
    "display(HTML(\"<style>.container { width:100% !important; }</style>\"))\n",
    "\n",
    "import sys\n",
    "import time\n",
    "from urllib.request import urlretrieve\n",
    "from pathlib import Path\n",
    "from collections import defaultdict\n",
    "from abc import ABC, abstractmethod\n",
    "\n",
    "import matplotlib\n",
    "import matplotlib.pyplot as plt\n",
    "%matplotlib inline\n",
    "matplotlib.rcParams[\"image.interpolation\"] = \"none\"\n",
    "matplotlib.rcParams['figure.figsize'] = (12, 6)\n",
    "from tifffile import imread, imwrite\n",
    "from tqdm.auto import tqdm\n",
    "import skimage\n",
    "from skimage.segmentation import relabel_sequential\n",
    "import pandas as pd\n",
    "import scipy\n",
    "import numpy as np\n",
    "import napari\n",
    "import networkx as nx\n",
    "\n",
    "import motile\n",
    "from motile.plot import draw_track_graph\n",
    "\n",
    "# Pretty tqdm progress bars \n",
    "! jupyter nbextension enable --py widgetsnbextension"
   ]
  },
  {
   "cell_type": "markdown",
   "id": "d052dd77",
   "metadata": {
    "tags": []
   },
   "source": [
    "## Load the dataset inspect it in napari"
   ]
  },
  {
   "cell_type": "markdown",
   "id": "f8ee299a-d31f-421b-8024-884bae72120b",
   "metadata": {},
   "source": [
    "For this exercise we will work with a small excerpt of the dataset from exercise 1. We already provide you with the detections this time, let's inspect them. "
   ]
  },
  {
   "cell_type": "code",
   "execution_count": null,
   "id": "07678fa9-0e52-4f24-9780-8082452838ec",
   "metadata": {
    "tags": []
   },
   "outputs": [],
   "source": [
    "base_path = Path(\"data/exercise2\")\n",
    "data = np.load(base_path / \"detected_renumbered.npz\", allow_pickle=True)\n",
    "img = data[\"img\"]\n",
    "labels = data[\"labels\"]\n",
    "links = pd.DataFrame(data[\"links\"], columns=[\"track_id\", \"from\", \"to\", \"parent_id\"])\n",
    "det = data[\"det\"]\n",
    "det_prob_maps = data[\"det_prob_maps\"]\n",
    "det_centers = data[\"det_centers\"][()] # det_centers is a dictionary\n",
    "det_center_probs = data[\"det_center_probs\"][()] # det_center_probs is a dictionary"
   ]
  },
  {
   "cell_type": "code",
   "execution_count": null,
   "id": "17d07035",
   "metadata": {},
   "outputs": [],
   "source": [
    "viewer = napari.viewer.current_viewer()\n",
    "if viewer:\n",
    "    viewer.close()\n",
    "viewer = napari.Viewer()\n",
    "viewer.add_image(img, name=\"image\");"
   ]
  },
  {
   "cell_type": "markdown",
   "id": "eb57799f",
   "metadata": {
    "tags": []
   },
   "source": [
    "<div class=\"alert alert-block alert-danger\"><h3>Napari in a jupyter notebook:</h3>\n",
    "    \n",
    "- To have napari working in a jupyter notebook, you need to use up-to-date versions of napari, pyqt and pyqt5, as is the case in the conda environments provided together with this exercise.\n",
    "- When you are coding and debugging, close the napari viewer with `viewer.close()` to avoid problems with the two event loops of napari and jupyter.\n",
    "- **If a cell is not executed (empty square brackets on the left of a cell) despite you running it, running it a second time right after will usually work.**\n",
    "</div>"
   ]
  },
  {
   "cell_type": "code",
   "execution_count": null,
   "id": "75346521",
   "metadata": {},
   "outputs": [],
   "source": [
    "def visualize_tracks(viewer, y, links=None, name=\"\"):\n",
    "    \"\"\"Utility function to visualize segmentation and tracks\"\"\"\n",
    "    max_label = max(links.max(), y.max()) if links is not None else y.max()\n",
    "    colorperm = np.random.default_rng(42).permutation(np.arange(1, max_label + 2))\n",
    "    tracks = []\n",
    "    for t, frame in enumerate(y):\n",
    "        centers = skimage.measure.regionprops(frame)\n",
    "        for c in centers:\n",
    "            tracks.append([colorperm[c.label], t, int(c.centroid[0]), int(c.centroid[1])])\n",
    "    tracks = np.array(tracks)\n",
    "    tracks = tracks[tracks[:, 0].argsort()]\n",
    "    \n",
    "    graph = {}\n",
    "    if links is not None:\n",
    "        divisions = links[links[:,3] != 0]\n",
    "        for d in divisions:\n",
    "            if colorperm[d[0]] not in tracks[:, 0] or colorperm[d[3]] not in tracks[:, 0]:\n",
    "                continue\n",
    "            graph[colorperm[d[0]]] = [colorperm[d[3]]]\n",
    "\n",
    "    viewer.add_labels(y, name=f\"{name}_detections\")\n",
    "    viewer.layers[f\"{name}_detections\"].contour = 3\n",
    "    viewer.add_tracks(tracks, name=f\"{name}_tracks\", graph=graph)\n",
    "    return tracks"
   ]
  },
  {
   "cell_type": "code",
   "execution_count": null,
   "id": "fa70f8c3",
   "metadata": {},
   "outputs": [],
   "source": [
    "viewer = napari.viewer.current_viewer()\n",
    "if viewer:\n",
    "    viewer.close()\n",
    "viewer = napari.Viewer()\n",
    "viewer.add_image(img)\n",
    "visualize_tracks(viewer, labels, links.to_numpy(), \"ground_truth\");\n",
    "viewer.add_labels(det, name=\"detections\");\n",
    "viewer.grid.enabled = True"
   ]
  },
  {
   "cell_type": "code",
   "execution_count": null,
   "id": "c8ca3a7f-d875-4c62-b920-1755ec6e04e0",
   "metadata": {
    "tags": []
   },
   "outputs": [],
   "source": [
    "viewer = napari.viewer.current_viewer()\n",
    "if viewer:\n",
    "    viewer.close()"
   ]
  },
  {
   "cell_type": "markdown",
   "id": "51d77db2",
   "metadata": {
    "tags": []
   },
   "source": [
    "## Build the ground truth graph, as well as a candidate graph from the detections"
   ]
  },
  {
   "cell_type": "code",
   "execution_count": null,
   "id": "a898b679-9032-4f9a-aaa5-79ac3e5e33ed",
   "metadata": {
    "tags": []
   },
   "outputs": [],
   "source": [
    "def build_gt_graph(labels, links=None):\n",
    "    \"\"\"TODO\"\"\"    \n",
    "    \n",
    "    print(\"Build ground truth graph\")\n",
    "    G = nx.DiGraph()\n",
    "    \n",
    "    luts = []\n",
    "    n_v = 0\n",
    "    for t, d in tqdm(enumerate(labels), desc=\"add nodes\"):\n",
    "        lut = {}\n",
    "        regions = skimage.measure.regionprops(d)\n",
    "        for i, r in enumerate(regions):\n",
    "            draw_pos = int(d.shape[0] - r.centroid[0])\n",
    "            # TODO update motile plotting function to not require contiguous node ids starting from 0\n",
    "            G.add_node(n_v, time=t, show=r.label, draw_position=draw_pos)\n",
    "            lut[r.label] = n_v\n",
    "            n_v += 1 \n",
    "        luts.append(lut)\n",
    "\n",
    "    n_e = 0\n",
    "    for t, (d0, d1) in tqdm(enumerate(zip(labels, labels[1:])), desc=\"add edges\"):\n",
    "        r0 = skimage.measure.regionprops(d0)\n",
    "        c0 = [np.array(r.centroid) for r in r0]\n",
    "         \n",
    "        r1 = skimage.measure.regionprops(d1)\n",
    "        c1 = [np.array(r.centroid) for r in r1]\n",
    "\n",
    "        for _r0, _c0 in zip(r0, c0):\n",
    "            for _r1, _c1 in zip(r1, c1):\n",
    "                dist = np.linalg.norm(_c0 - _c1)\n",
    "                if _r0.label == _r1.label:\n",
    "                    G.add_edge(\n",
    "                        # TODO update motile plotting function to not require contiguous node ids starting from 0\n",
    "                        luts[t][_r0.label],\n",
    "                        luts[t+1][_r1.label],\n",
    "                        edge_id = n_e,\n",
    "                        # show=\".\",\n",
    "                    )\n",
    "                    n_e += 1\n",
    "\n",
    "    if links is not None:\n",
    "        divisions = links[links[:,3] != 0]\n",
    "        for d in divisions:\n",
    "            if d[1] > 0 and d[1] < labels.shape[0]:\n",
    "                try:\n",
    "                    G.add_edge(\n",
    "                        luts[d[1] - 1][d[3]],\n",
    "                        luts[d[1]][d[0]],\n",
    "                        edge_id = n_e,\n",
    "                        show=\"DIV\",\n",
    "                    )\n",
    "                    n_e += 1\n",
    "                except KeyError:\n",
    "                    pass\n",
    "                    \n",
    "    G = motile.TrackGraph(G, frame_attribute=\"time\")\n",
    "    \n",
    "    return G\n",
    "\n",
    "def build_graph(detections, max_distance, detection_probs=None, drift=(0,0)):\n",
    "    \"\"\"TODO\n",
    "    \n",
    "    detection_probs: list of arrays, corresponding to ordered ids in detections.\"\"\"\n",
    "    \n",
    "    print(\"Build candidate graph\")\n",
    "    G = nx.DiGraph()\n",
    "    \n",
    "    for t, d in tqdm(enumerate(detections), desc=\"add nodes\"):\n",
    "        regions = skimage.measure.regionprops(d)\n",
    "        for i, r in enumerate(regions):\n",
    "            draw_pos = int(d.shape[0] - r.centroid[0])\n",
    "            weight = np.round(detection_probs[r.label], decimals=2).item() if detection_probs is not None else 1\n",
    "            # TODO update motile plotting function to not require contiguous node ids starting from 0\n",
    "            G.add_node(r.label - 1, time=t, show=r.label, weight=weight, draw_position=draw_pos)\n",
    "\n",
    "    n_e = 0\n",
    "    for t, (d0, d1) in tqdm(enumerate(zip(detections, detections[1:])), desc=\"add edges\"):\n",
    "        r0 = skimage.measure.regionprops(d0)\n",
    "        c0 = [np.array(r.centroid) for r in r0]\n",
    "         \n",
    "        r1 = skimage.measure.regionprops(d1)\n",
    "        c1 = [np.array(r.centroid) for r in r1]\n",
    "\n",
    "        for _r0, _c0 in zip(r0, c0):\n",
    "            for _r1, _c1 in zip(r1, c1):\n",
    "                dist = np.linalg.norm(_c0 + np.array(drift) - _c1)\n",
    "                if dist < max_distance:\n",
    "                    G.add_edge(\n",
    "                        # TODO update motile plotting function to not require contiguous node ids starting from 0\n",
    "                        _r0.label - 1,\n",
    "                        _r1.label - 1,\n",
    "                        # 1 - normalized euclidian distance\n",
    "                        weight=1 - np.round(np.linalg.norm(_c0 + np.array(drift) - _c1) / max_distance, decimals=3).item(),\n",
    "                        edge_id=n_e,\n",
    "                        # score=1,\n",
    "                        show=\"?\",\n",
    "                    )\n",
    "                    n_e += 1\n",
    "\n",
    "    G = motile.TrackGraph(G, frame_attribute=\"time\")\n",
    "    \n",
    "    return G"
   ]
  },
  {
   "cell_type": "code",
   "execution_count": null,
   "id": "8ef2cb14-4464-4d15-bb27-455929a95ad8",
   "metadata": {
    "tags": []
   },
   "outputs": [],
   "source": [
    "gt_graph = build_gt_graph(labels, links.to_numpy())\n",
    "candidate_graph = build_graph(det, max_distance=30, detection_probs=det_center_probs, drift=(-6 , 0))"
   ]
  },
  {
   "cell_type": "code",
   "execution_count": null,
   "id": "c43d29de-7745-4a4e-b86e-e97539086d5c",
   "metadata": {
    "tags": []
   },
   "outputs": [],
   "source": [
    "# TODO upgrade this a bit\n",
    "fig_gt = draw_track_graph(\n",
    "    gt_graph,\n",
    "    position_attribute=\"draw_position\",\n",
    "    width=1000,\n",
    "    height=500,\n",
    "    label_attribute='show',\n",
    "    node_color=(0, 128, 0),\n",
    "    edge_color=(0, 128, 0),\n",
    ")\n",
    "fig_gt = fig_gt.update_layout(\n",
    "    title={\n",
    "        'text': \"Ground truth\",\n",
    "        'y':0.98,\n",
    "        'x':0.5,\n",
    "    }\n",
    ")\n",
    "\n",
    "fig_candidate = draw_track_graph(\n",
    "    candidate_graph,\n",
    "    position_attribute=\"draw_position\",\n",
    "    width=1000,\n",
    "    height=500,\n",
    "    label_attribute='show',\n",
    "    alpha_attribute='weight',\n",
    "    \n",
    ")\n",
    "fig_candidate = fig_candidate.update_layout(\n",
    "    title={\n",
    "        'text': \"Candidate graph\",\n",
    "        'y':0.98,\n",
    "        'x':0.5,\n",
    "    }\n",
    ")\n",
    "\n",
    "\n",
    "fig_gt.show()\n",
    "fig_candidate.show()"
   ]
  },
  {
   "cell_type": "markdown",
   "id": "fbdd0b30-c577-47f7-b371-9191efcb430b",
   "metadata": {},
   "source": [
    "## Network flow"
   ]
  },
  {
   "cell_type": "markdown",
   "id": "a18a401b-33a7-4f4f-b770-2d2faba8c2f3",
   "metadata": {
    "tags": []
   },
   "source": [
    "## Exercise 3.1\n",
    "<div class=\"alert alert-block alert-info\"><h3>Exercise 3.1: TODO define task</h3></div>"
   ]
  },
  {
   "cell_type": "code",
   "execution_count": null,
   "id": "fa8609fe-fecd-4e12-9b77-66e1b8715f55",
   "metadata": {
    "tags": []
   },
   "outputs": [],
   "source": [
    "def solution2graph(solver, base_graph):\n",
    "    new_graph = nx.DiGraph()\n",
    "    node_indicators = solver.get_variables(motile.variables.NodeSelected)\n",
    "    edge_indicators = solver.get_variables(motile.variables.EdgeSelected)    \n",
    "    \n",
    "    # Build nodes\n",
    "    for node, index in node_indicators.items():\n",
    "        if solver.solution[index] > 0.5:\n",
    "            node_features = base_graph.nodes[node]\n",
    "            new_graph.add_node(node, **node_features)\n",
    "    \n",
    "    # Build edges\n",
    "    for edge, index in edge_indicators.items():\n",
    "        if solver.solution[index] > 0.5:\n",
    "            # print(base_graph.edges[edge])\n",
    "            new_graph.add_edge(*edge, **base_graph.edges[edge])\n",
    "            \n",
    "    return new_graph\n",
    "\n",
    "def print_solution_stats(solver, graph):\n",
    "    time.sleep(0.1) # to wait for ilpy prints\n",
    "    print(f\"\\nCandidate graph\\t{len(graph.nodes):3} nodes\\t{len(graph.edges):3} edges\")\n",
    "    \n",
    "    node_selected = solver.get_variables(motile.variables.NodeSelected)\n",
    "    edge_selected = solver.get_variables(motile.variables.EdgeSelected)\n",
    "    nodes = 0\n",
    "    for node in candidate_graph.nodes:\n",
    "        if solver.solution[node_selected[node]] > 0.5:\n",
    "            nodes += 1\n",
    "    edges = 0\n",
    "    for u, v in candidate_graph.edges:\n",
    "        if solver.solution[edge_selected[(u, v)]] > 0.5:\n",
    "            edges += 1       \n",
    "    print(f\"Solution graph\\t{nodes:3} nodes\\t{edges:3} edges\")"
   ]
  },
  {
   "cell_type": "code",
   "execution_count": null,
   "id": "3a75f291-ef16-4caf-8b41-6f914972585d",
   "metadata": {
    "tags": []
   },
   "outputs": [],
   "source": [
    "def solve_network_flow(graph):\n",
    "    # TODO update to actual flow\n",
    "    solver = motile.Solver(graph)\n",
    "    \n",
    "    # Add costs\n",
    "    solver.add_costs(\n",
    "        motile.costs.NodeSelection(\n",
    "            weight=-1,\n",
    "            attribute=\"weight\"))\n",
    "    solver.add_costs(\n",
    "        motile.costs.EdgeSelection(\n",
    "            weight=1,\n",
    "            attribute=\"weight\"))\n",
    "    solver.add_costs(motile.costs.Appear(constant=10000))\n",
    "    \n",
    "    # Add constraints\n",
    "    solver.add_constraints(motile.constraints.MaxParents(1))\n",
    "    solver.add_constraints(motile.constraints.MaxChildren(1))\n",
    "    \n",
    "    solution = solver.solve()\n",
    "    \n",
    "    print_solution_stats(solver, graph)\n",
    "    solution_graph = solution2graph(solver, graph)\n",
    "   \n",
    "    return solution_graph, solver.solution.get_value()"
   ]
  },
  {
   "cell_type": "code",
   "execution_count": null,
   "id": "ab1c2a88-c2e7-49e0-8eec-571aab16312b",
   "metadata": {
    "tags": []
   },
   "outputs": [],
   "source": [
    "flow, flow_cost = solve_network_flow(candidate_graph)"
   ]
  },
  {
   "cell_type": "code",
   "execution_count": null,
   "id": "47ba6d66-5cbc-48ae-9379-25dcc3d32588",
   "metadata": {},
   "outputs": [],
   "source": [
    "fig, (ax0, ax1, ax2) = plt.subplots(1,3, figsize=(32, 12))\n",
    "draw_graph(gt_graph, \"Ground truth graph\", ax=ax0, height=detections[0].shape[0])\n",
    "draw_graph(candidate_graph, \"Candidate graph\", ax=ax1, height=detections[0].shape[0])\n",
    "draw_graph(flow, f\"Network flow (no divisions) - cost: {flow_cost}\", ax=ax2, height=detections[0].shape[0])"
   ]
  },
  {
   "cell_type": "code",
   "execution_count": null,
   "id": "677cc600",
   "metadata": {},
   "outputs": [],
   "source": [
    "def recolor_detections(detections, graph, node_luts):\n",
    "    \"\"\".\"\"\"\n",
    "    assert len(detections) == len(node_luts)\n",
    "    \n",
    "    out = []\n",
    "    n_tracks = 1\n",
    "    color_lookup_tables = []\n",
    "    \n",
    "    for t in tqdm(range(0, len(detections)), desc=\"Recoloring detections\"):\n",
    "        new_frame = np.zeros_like(detections[t])\n",
    "        color_lut = {}\n",
    "        for det_id, node_id in node_luts[t].items():\n",
    "            if node_id not in graph.nodes:\n",
    "                continue\n",
    "            edges = graph.in_edges(node_id)\n",
    "            if not edges:\n",
    "                new_frame[detections[t] == graph.nodes[node_id][\"detection_id\"]] = n_tracks\n",
    "                color_lut[graph.nodes[node_id][\"detection_id\"]] = n_tracks\n",
    "                n_tracks += 1\n",
    "            else:\n",
    "                for v_tm1, u_t0 in edges:\n",
    "                    new_frame[detections[t] == graph.nodes[u_t0][\"detection_id\"]] = color_lookup_tables[t-1][graph.nodes[v_tm1][\"detection_id\"]]\n",
    "                    color_lut[graph.nodes[u_t0][\"detection_id\"]] = color_lookup_tables[t-1][graph.nodes[v_tm1][\"detection_id\"]]\n",
    "                \n",
    "        color_lookup_tables.append(color_lut)\n",
    "        out.append(new_frame)\n",
    "        \n",
    "\n",
    "    return np.stack(out)"
   ]
  },
  {
   "cell_type": "code",
   "execution_count": null,
   "id": "adabad0a-6f48-4043-b7b7-f1c194c1c3c5",
   "metadata": {},
   "outputs": [],
   "source": [
    "recolored_gt = recolor_detections(y, gt_graph, gt_luts)\n",
    "detections_ilp_flow = recolor_detections(detections=detections, graph=flow, node_luts=candidate_luts)\n",
    "\n",
    "viewer = napari.viewer.current_viewer()\n",
    "if viewer:\n",
    "    viewer.close()\n",
    "viewer = napari.Viewer()\n",
    "viewer.add_image(x)\n",
    "# visualize_tracks(viewer, y)\n",
    "viewer.add_labels(recolored_gt)\n",
    "viewer.add_labels(detections)\n",
    "viewer.add_labels(detections_ilp_flow)\n",
    "viewer.grid.enabled = True"
   ]
  },
  {
   "cell_type": "markdown",
   "id": "86363039-ace7-49cb-83da-8988af221989",
   "metadata": {},
   "source": [
    "## Checkpoint 1\n",
    "<div class=\"alert alert-block alert-success\"><h3>Checkpoint 1: We have familiarized ourselves with the formulation of an ILP for linking and and have a feasible solution to a network flow.</h3></div>"
   ]
  },
  {
   "cell_type": "markdown",
   "id": "a1abcf8e",
   "metadata": {
    "tags": []
   },
   "source": [
    "## Exercise 3.2\n",
    "<div class=\"alert alert-block alert-info\"><h3>Exercise 3.2: TODO make placeholders! Extend the network flow from Exercise 3.1 such that tracks can start and end at arbitrary time points</h3></div>"
   ]
  },
  {
   "cell_type": "code",
   "execution_count": null,
   "id": "4b8238f3-3926-4c73-bba8-d3180acea9ae",
   "metadata": {
    "tags": []
   },
   "outputs": [],
   "source": [
    "def solve_network_flow_birth_death(graph):\n",
    "    solver = motile.Solver(graph)\n",
    "    \n",
    "    # Add costs\n",
    "    solver.add_costs(\n",
    "        motile.costs.NodeSelection(\n",
    "            weight=-1,\n",
    "            attribute=\"weight\"))\n",
    "    solver.add_costs(\n",
    "        motile.costs.EdgeSelection(\n",
    "            weight=1,\n",
    "            attribute=\"weight\"))\n",
    "    solver.add_costs(motile.costs.Appear(constant=0.5))\n",
    "    # TODO implement\n",
    "    # solver.add_costs(motile.costs.Disappear(constant=0.5))\n",
    "    \n",
    "    # Add constraints\n",
    "    solver.add_constraints(motile.constraints.MaxParents(1))\n",
    "    solver.add_constraints(motile.constraints.MaxChildren(1))\n",
    "    \n",
    "    solution = solver.solve()\n",
    "    \n",
    "    print_solution_stats(solver, graph)\n",
    "    solution_graph = solution2graph(solver, graph)\n",
    "    \n",
    "    return solution_graph, solver.solution.get_value()"
   ]
  },
  {
   "cell_type": "code",
   "execution_count": null,
   "id": "f605a2df-4e06-4cc5-bbac-0056ebff5359",
   "metadata": {
    "tags": []
   },
   "outputs": [],
   "source": [
    "birth_death, birth_death_cost = solve_network_flow_birth_death(candidate_graph)"
   ]
  },
  {
   "cell_type": "code",
   "execution_count": null,
   "id": "8ff76a9a",
   "metadata": {},
   "outputs": [],
   "source": [
    "fig, (ax0, ax1, ax2) = plt.subplots(1,3, figsize=(32, 12))\n",
    "draw_graph(gt_graph, \"Ground truth graph\", ax=ax0, height=detections[0].shape[0])\n",
    "draw_graph(candidate_graph, \"Candidate graph\", ax=ax1, height=detections[0].shape[0])\n",
    "draw_graph(birth_death, f\"ILP solution (no divisions) - cost:{birth_death_cost}\", ax=ax2, height=detections[0].shape[0])"
   ]
  },
  {
   "cell_type": "code",
   "execution_count": null,
   "id": "d87a7833",
   "metadata": {},
   "outputs": [],
   "source": [
    "recolored_gt = recolor_detections(y, gt_graph, gt_luts)\n",
    "detections_ilp_nodiv = recolor_detections(detections=detections, graph=birth_death, node_luts=candidate_luts)\n",
    "\n",
    "viewer = napari.viewer.current_viewer()\n",
    "if viewer:\n",
    "    viewer.close()\n",
    "viewer = napari.Viewer()\n",
    "viewer.add_image(x)\n",
    "# visualize_tracks(viewer, y)\n",
    "viewer.add_labels(recolored_gt)\n",
    "viewer.add_labels(detections)\n",
    "viewer.add_labels(detections_ilp_nodiv)\n",
    "viewer.grid.enabled = True"
   ]
  },
  {
   "cell_type": "markdown",
   "id": "b0aa30a7-51ba-42cc-811b-d031ddaece36",
   "metadata": {},
   "source": [
    "## ILP model including divisions"
   ]
  },
  {
   "cell_type": "markdown",
   "id": "605092c9",
   "metadata": {
    "tags": []
   },
   "source": [
    "## Exercise 3.3\n",
    "<div class=\"alert alert-block alert-info\"><h3>Exercise 3.3: TODO make placeholders! Complete yet another extension of the ILP such that it allows for cell divisions</h3></div>"
   ]
  },
  {
   "cell_type": "code",
   "execution_count": null,
   "id": "7e7b3f05-802c-43bf-ad83-04bae09facac",
   "metadata": {
    "tags": []
   },
   "outputs": [],
   "source": [
    "def solve_full_ilp(graph):\n",
    "    solver = motile.Solver(graph)\n",
    "    \n",
    "    # Add costs\n",
    "    solver.add_costs(\n",
    "        motile.costs.NodeSelection(\n",
    "            weight=-1,\n",
    "            attribute=\"weight\"))\n",
    "    solver.add_costs(\n",
    "        motile.costs.EdgeSelection(\n",
    "            weight=0.4,\n",
    "            attribute=\"weight\"))\n",
    "    solver.add_costs(motile.costs.Appear(constant=0.15))\n",
    "    # TODO implement\n",
    "    # solver.add_costs(motile.costs.Disappear(constant=0.5))\n",
    "    solver.add_costs(motile.costs.Split(0.02))\n",
    "    \n",
    "    \n",
    "    # Add constraints\n",
    "    solver.add_constraints(motile.constraints.MaxParents(1))\n",
    "    solver.add_constraints(motile.constraints.MaxChildren(2))\n",
    "    \n",
    "    solution = solver.solve()\n",
    "    \n",
    "    print_solution_stats(solver, graph)\n",
    "    solution_graph = solution2graph(solver, graph)\n",
    "    \n",
    "    return solution_graph, solver.solution.get_value()"
   ]
  },
  {
   "cell_type": "code",
   "execution_count": null,
   "id": "b824a0d9",
   "metadata": {},
   "outputs": [],
   "source": [
    "full_ilp, full_ilp_cost = solve_full_ilp(candidate_graph)"
   ]
  },
  {
   "cell_type": "code",
   "execution_count": null,
   "id": "8df65faf",
   "metadata": {},
   "outputs": [],
   "source": [
    "det_solved_div = recolor_detections(detections=detections, graph=full_ilp, node_luts=candidate_luts)"
   ]
  },
  {
   "cell_type": "code",
   "execution_count": null,
   "id": "1a4ed8f9",
   "metadata": {},
   "outputs": [],
   "source": [
    "viewer = napari.viewer.current_viewer()\n",
    "if viewer:\n",
    "    viewer.close()\n",
    "viewer = napari.Viewer()\n",
    "viewer.add_image(x)\n",
    "viewer.add_labels(recolored_gt)\n",
    "viewer.add_labels(detections)\n",
    "viewer.add_labels(det_solved_div)\n",
    "viewer.grid.enabled = True"
   ]
  },
  {
   "cell_type": "code",
   "execution_count": null,
   "id": "907e31e8",
   "metadata": {
    "lines_to_next_cell": 2
   },
   "outputs": [],
   "source": [
    "fig, ((ax0, ax1), (ax2, ax3)) = plt.subplots(2,2, figsize=(24, 16))\n",
    "draw_graph(candidate_graph, \"Candidate graph\", ax=ax0)\n",
    "draw_graph(full_ilp, f\"ILP solution (with divisions) - cost: {full_ilp_cost}\", ax=ax1)\n",
    "draw_graph(gt_graph, \"Ground truth graph\", ax=ax2)\n",
    "draw_graph(birth_death, f\"ILP solution (no divisions) - cost: {birth_death_cost}\", ax=ax3)"
   ]
  },
  {
   "cell_type": "code",
   "execution_count": null,
   "id": "00439560-fb06-4552-824b-76073611b7b9",
   "metadata": {},
   "outputs": [],
   "source": []
  }
 ],
 "metadata": {
  "jupytext": {
   "formats": "py:percent,ipynb"
  },
  "kernelspec": {
   "display_name": "Python 3 (ipykernel)",
   "language": "python",
   "name": "python3"
  },
  "language_info": {
   "codemirror_mode": {
    "name": "ipython",
    "version": 3
   },
   "file_extension": ".py",
   "mimetype": "text/x-python",
   "name": "python",
   "nbconvert_exporter": "python",
   "pygments_lexer": "ipython3",
   "version": "3.9.16"
  }
 },
 "nbformat": 4,
 "nbformat_minor": 5
}
