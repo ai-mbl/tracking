{
 "cells": [
  {
   "cell_type": "markdown",
   "id": "9e290780",
   "metadata": {},
   "source": [
    "# Exercise 8: Tracking-by-detection with an integer linear program (ILP)\n",
    "\n",
    "Objective:\n",
    "- Write a pipeline that takes in cell detections and links them across time to obtain lineage trees\n",
    "\n",
    "Methods/Tools:\n",
    "\n",
    "- **`networkx`**: To represent the tracking inputs and outputs as graphs. Tracking is often framed\n",
    "    as a graph optimization problem. Nodes in the graph represent detections, and edges represent links\n",
    "    across time. The \"tracking\" task is then framed as selecting the correct edges to link your detections.\n",
    "- **`motile`**: To set up and solve an Integer Linear Program (ILP) for tracking.\n",
    "    ILP-based methods frame tracking as a constrained optimization problem. The task is to select a subset of nodes/edges from a \"candidate graph\" of all possible nodes/edges. The subset must minimize user-defined costs (e.g. edge distance), while also satisfying a set of tracking constraints (e.g. each cell is linked to at most one cell in the previous frame). Note: this tracking approach is not inherently using\n",
    "    \"deep learning\" - the costs and constraints are usually hand-crafted to encode biological and data-based priors, although cost features can also be learned from data.\n",
    "- **`napari`**: To visualize tracking inputs and outputs. Qualitative analysis is crucial for tuning the\n",
    "    weights of the objective function and identifying data-specific costs and constraints.\n",
    "- **`trackastra`**: To predict linking scores for cells in adjacent time points. `trackastra` is a transformer-based deep learning model, \n",
    "    with published pre-trained models that work on many types of input.\n",
    "- **`traccuracy`**: To evaluate tracking results. Metrics such as accuracy can be misleading for tracking,\n",
    "    because rare events such as divisions are much harder than the common linking tasks, and might\n",
    "    be more biologically relevant for downstream analysis. Therefore, it is important to evaluate on\n",
    "    a wide range of error metrics and determine which are most important for your use case.\n",
    "\n",
    "After running through the full tracking pipeline, from loading to evaluation, we will learn how to **incorporate custom costs** based on dataset-specific prior information and deep learning models.\n",
    "\n",
    "<div class=\"alert alert-danger\">\n",
    "Set your python kernel to <code>08-tracking</code>\n",
    "</div>\n",
    "\n",
    "Places where you are expected to write code are marked with\n",
    "```\n",
    "### YOUR CODE HERE ###\n",
    "```\n",
    "\n",
    "This notebook was originally written by Benjamin Gallusser, and was edited for 2024 and 2025 by Caroline Malin-Mayor."
   ]
  },
  {
   "cell_type": "markdown",
   "id": "405287d1",
   "metadata": {},
   "source": [
    "## Section 0: Setup\n",
    "The setup.sh script already installed dependencies and downloaded the dataset we will be using. However, since we will be using `napari` to interactively visualize our tracking results, if you are running this notebook on a remote machine, we need to set up a few things."
   ]
  },
  {
   "cell_type": "markdown",
   "id": "6e516066",
   "metadata": {},
   "source": [
    "### Set up NoMachine with port forwarding\n",
    "1. From VSCode connected to your remote machine, forward a port (e.g. `4000`) to your local machine.\n",
    "    - Open you command palette in VSCode (usually CMD-Shift-P) and type \"forward a port\"\n",
    "    - Then type in the desired port number `4000` and hit enter\n",
    "    - From the \"PORTS\" tab, you should see port 4000 listed as a forwarded port\n",
    "2. Download and install [NoMachine](https://www.nomachine.com/download) on your local machine if it is not already installed.\n",
    "3. Enter the server address in host, set the port to match the port you forwarded in step 1 and protocol as NX. Feel free to enter any name you would like.\n",
    "4. Click on the configuration tab on the left.\n",
    "5. Choose \"Use key-based authentication with a key you provide\" and hit the \"Modify\" button.\n",
    "6. Provide the path to your ssh key .pem file.\n",
    "7. Finally hit connect (or Add).\n",
    "8. If you are asked to create a desktop, click yes.\n",
    "9. You should then see a time and date, hitting enter should let you enter your username and access the desktop. The first login may be slow.\n",
    "10. Still in NoMachine, open a shell window. Hit the application button in the bottom left corner and launch \"Konsole\"\n",
    "11. From the shell, run `echo $DISPLAY`. Copy the output. It should be something like `:1005`\n",
    "12. Return to your notebook in VSCode, and proceed with the exercise.\n",
    "13. Modify the cell below to input the DISPLAY port you retrieved in step 11"
   ]
  },
  {
   "cell_type": "code",
   "execution_count": null,
   "id": "5ee1de5a",
   "metadata": {},
   "outputs": [],
   "source": [
    "import os\n",
    "os.environ[\"DISPLAY\"] = \"TODO\""
   ]
  },
  {
   "cell_type": "markdown",
   "id": "947b6aab",
   "metadata": {},
   "source": [
    "### Import packages"
   ]
  },
  {
   "cell_type": "code",
   "execution_count": null,
   "id": "02981304",
   "metadata": {},
   "outputs": [],
   "source": [
    "import skimage\n",
    "import numpy as np\n",
    "import napari\n",
    "import networkx as nx\n",
    "import scipy\n",
    "\n",
    "import motile\n",
    "\n",
    "import zarr\n",
    "import geff\n",
    "import trackastra.model\n",
    "from motile_toolbox.candidate_graph import graph_to_nx\n",
    "from motile_toolbox.visualization.napari_utils import assign_tracklet_ids\n",
    "import motile_plugin.widgets as plugin_widgets\n",
    "from motile_plugin.backend.motile_run import MotileRun\n",
    "import traccuracy\n",
    "from traccuracy.metrics import CTCMetrics, DivisionMetrics\n",
    "from traccuracy.matchers import IOUMatcher\n",
    "from csv import DictReader\n",
    "\n",
    "from tqdm.auto import tqdm\n",
    "\n",
    "from typing import Iterable, Any"
   ]
  },
  {
   "cell_type": "markdown",
   "id": "e0ddc4d1",
   "metadata": {},
   "source": [
    "## Section 1: Visualize the data"
   ]
  },
  {
   "cell_type": "markdown",
   "id": "62136b1b",
   "metadata": {},
   "source": [
    "### Load the dataset and inspect it in napari"
   ]
  },
  {
   "cell_type": "markdown",
   "id": "b05c2e16",
   "metadata": {},
   "source": [
    "For this exercise we will be working with a fluorescence microscopy time-lapse of breast cancer cells with stained nuclei (SiR-DNA). It is similar to the dataset at https://zenodo.org/record/4034976#.YwZRCJPP1qt. The raw data, pre-computed segmentations, detection probabilities, and ground truth tracks are saved in a zarr. The segmentation was generated with a pre-trained StartDist model, so there may be some segmentation errors which can affect the tracking process. The detection probabilities also come from StarDist, and are downsampled in x and y by 2 compared to the detections and raw data."
   ]
  },
  {
   "cell_type": "markdown",
   "id": "1ad6ba44",
   "metadata": {},
   "source": [
    "Here we load the raw image data, segmentation, and probabilities from the zarr, and view them in napari."
   ]
  },
  {
   "cell_type": "code",
   "execution_count": null,
   "id": "9261181b",
   "metadata": {},
   "outputs": [],
   "source": [
    "data_path = \"./data/breast_cancer_fluo.zarr\"\n",
    "data_root = zarr.open(data_path, 'r')\n",
    "image_data = data_root[\"raw\"][:]\n",
    "segmentation = data_root[\"seg\"][:]\n",
    "probabilities = data_root[\"probs\"][:]"
   ]
  },
  {
   "cell_type": "code",
   "execution_count": null,
   "id": "d354415a",
   "metadata": {},
   "outputs": [],
   "source": [
    "viewer = napari.Viewer()"
   ]
  },
  {
   "cell_type": "markdown",
   "id": "caf87376",
   "metadata": {},
   "source": [
    "Let's use [napari](https://napari.org/tutorials/fundamentals/getting_started.html) to visualize the data. Napari is a wonderful viewer for imaging data that you can interact with in python, even directly out of jupyter notebooks. If you've never used napari, you might want to take a few minutes to go through [this tutorial](https://napari.org/stable/tutorials/fundamentals/viewer.html). Here we visualize the raw data, the predicted segmentations, and the predicted probabilities as separate layers. You can toggle each layer on and off in the layers list on the left."
   ]
  },
  {
   "cell_type": "code",
   "execution_count": null,
   "id": "de2086ee",
   "metadata": {},
   "outputs": [],
   "source": [
    "\n",
    "viewer.add_image(probabilities, name=\"probs\", scale=(1, 2, 2))\n",
    "viewer.add_image(image_data, name=\"raw\")\n",
    "viewer.add_labels(segmentation, name=\"seg\")"
   ]
  },
  {
   "cell_type": "markdown",
   "id": "b6b47ebe",
   "metadata": {},
   "source": [
    "After running the previous cell, open NoMachine and check for an open napari window."
   ]
  },
  {
   "cell_type": "markdown",
   "id": "9e2ba2d7",
   "metadata": {},
   "source": [
    "### Read in the ground truth graph and inspect it in napari\n",
    "In addition to the image data and segmentations, we also have a ground truth tracking solution.\n",
    "The ground truth tracks are stored in a [`geff`](http://liveimagetrackingtools.org/geff/latest/) (Graph Exchange File Format) group in the zarr.\n",
    "This is a new format that is in the process of being adopted by the tracking community, with support for import/export from a variety of\n",
    "common tools, such as TrackMate, `trackastra`, `napari`, and `traccuracy`.\n",
    "\n",
    "Each node in the graph represents a detection, and has properties `t`, `y`, and `x` holding the location of that detection.\n",
    "Edges in the graph link detected cells between time frames: edges go from a detection in time `t` to the same cell (or its daughter) detected in time `t + 1`.\n",
    "Note that there are no ground truth segmentations - each detection is just a point representing the center of a cell.\n",
    "\n",
    "Here we load the graph using the `geff` API into a `networkx` graph, a common library for working with graphs in Python. Specifically, we load it into a [`nx.DiGraph`](https://networkx.org/documentation/stable/reference/classes/digraph.html), since our edges are directed.\n"
   ]
  },
  {
   "cell_type": "code",
   "execution_count": null,
   "id": "9020f1cd",
   "metadata": {},
   "outputs": [],
   "source": [
    "gt_tracks, metadata = geff.read_nx(\"data/breast_cancer_fluo.zarr/gt_tracks.geff\")\n",
    "print(f\"The ground truth tracks have {gt_tracks.number_of_nodes()} nodes and {gt_tracks.number_of_edges()} edges\")"
   ]
  },
  {
   "cell_type": "markdown",
   "id": "c31547c4",
   "metadata": {},
   "source": [
    "Here we set up a napari widget for visualizing the tracking results. This is part of the motile napari plugin, not part of core napari.\n",
    "If you get a napari error that the viewer window is closed, please re-run the previous visualization cell to re-open the viewer window."
   ]
  },
  {
   "cell_type": "code",
   "execution_count": null,
   "id": "ae7e80a8",
   "metadata": {},
   "outputs": [],
   "source": [
    "widget = plugin_widgets.TreeWidget(viewer)\n",
    "viewer.window.add_dock_widget(widget, name=\"Lineage View\", area=\"right\")"
   ]
  },
  {
   "cell_type": "markdown",
   "id": "3b6c4922",
   "metadata": {},
   "source": [
    "Here we add a \"MotileRun\" to the napari tracking visualization widget (the \"view_controller\"). A MotileRun includes a name, a set of tracks, and a segmentation. The tracking visualization widget will add:\n",
    "- a Points layer with the points in the tracks\n",
    "- a Tracks layer to display the track history as a \"tail\" behind the point in the current time frame\n",
    "- a Labels layer, if a segmentation was provided\n",
    "- a Lineage View widget, which displays an abstract graph representation of all the solution tracks\n",
    "\n",
    "These views are synchronized such that every element is colored by the track ID of the element. Clicking on a node in the Lineage View will navigate to that cell in the data, and vice versa.\n",
    "\n",
    "Hint - if your screen is too small, you can \"pop out\" the lineage tree view into a separate window using the icon that looks like two boxes in the top left of the lineage tree view. You can also close the tree view with the x just above it, and open it again from the menu bar: Plugins -> Motile -> Lineage View (then re-run the below cell to add the data to the lineage view)."
   ]
  },
  {
   "cell_type": "code",
   "execution_count": null,
   "id": "6ed7e98a",
   "metadata": {},
   "outputs": [],
   "source": [
    "assign_tracklet_ids(gt_tracks)\n",
    "ground_truth_run = MotileRun(\n",
    "    run_name=\"ground_truth\",\n",
    "    tracks=gt_tracks,\n",
    ")\n",
    "\n",
    "widget.view_controller.update_napari_layers(ground_truth_run, time_attr=\"t\", pos_attr=(\"x\", \"y\"))"
   ]
  },
  {
   "cell_type": "markdown",
   "id": "b35a30ed",
   "metadata": {
    "lines_to_next_cell": 2
   },
   "source": [
    "## Section 2 (Task 1) Build a candidate graph\n",
    "\n",
    "To set up our tracking problem, we will create a \"candidate graph\" - a DiGraph that contains all possible detections (graph nodes) and links (graph edges) between them.\n",
    "\n",
    "Then we use an optimization method called an integer linear program (ILP) to select the best nodes and edges from the candidate graph to generate our final tracks.\n",
    "\n",
    "To create our candidate graph, we will use the provided StarDist segmentations.\n",
    "Each node in the candidate graph represents one segmentation, and each edge represents a potential link between segmentations. This candidate graph will also contain features that will be used in the optimization task, such as position on nodes and, later, customized scores on edges."
   ]
  },
  {
   "cell_type": "markdown",
   "id": "9ce7c197",
   "metadata": {},
   "source": [
    "<div class=\"alert alert-block alert-info\"><h3>Task 1: Extract candidate nodes from the predicted segmentations</h3>\n",
    "First we need to turn each segmentation into a node in a `networkx.DiGraph`.\n",
    "Use <a href=https://scikit-image.org/docs/stable/api/skimage.measure.html#skimage.measure.regionprops>skimage.measure.regionprops</a> to extract properties from each segmentation, and create a candidate graph with nodes only.\n",
    "\n",
    "\n",
    "Here are the requirements for the output graph:\n",
    "<ol>\n",
    "    <li>Each detection (unique label id) in the segmentation becomes a node in the graph</li>\n",
    "    <li>The node id is the label of the detection</li>\n",
    "    <li>Each node has an integer \"t\" attribute, based on the index into the first dimension of the input segmentation array</li>\n",
    "    <li>Each node has float \"x\" and \"y\" attributes containing the \"x\" and \"y\" values from the centroid of the detection region</li>\n",
    "    <li>Each node has a \"score\" attribute containing the probability score output from StarDist. The probability map is at half resolution, so you will need to divide the centroid by 2 before indexing into the probability score.</li>\n",
    "    <li>The graph has no edges (yet!)</li>\n",
    "</ol>\n",
    "</div>"
   ]
  },
  {
   "cell_type": "code",
   "execution_count": null,
   "id": "7f9cd9e9",
   "metadata": {
    "tags": [
     "solution"
    ]
   },
   "outputs": [],
   "source": [
    "def nodes_from_segmentation(segmentation: np.ndarray) -> nx.DiGraph:\n",
    "    \"\"\"Extract candidate nodes from a segmentation.\n",
    "\n",
    "    Args:\n",
    "        segmentation (np.ndarray): A numpy array with integer labels and dimensions\n",
    "            (t, y, x).\n",
    "\n",
    "    Returns:\n",
    "        nx.DiGraph: A candidate graph with only nodes.\n",
    "    \"\"\"\n",
    "    cand_graph = nx.DiGraph()\n",
    "    print(\"Extracting nodes from segmentation\")\n",
    "    for t in tqdm(range(len(segmentation))):\n",
    "        seg_frame = segmentation[t]\n",
    "        props = skimage.measure.regionprops(seg_frame)\n",
    "        for regionprop in props:\n",
    "            node_id = regionprop.label\n",
    "            x = float(regionprop.centroid[0])\n",
    "            y = float(regionprop.centroid[1])\n",
    "            attrs = {\n",
    "                \"t\": t,\n",
    "                \"x\": x,\n",
    "                \"y\": y,\n",
    "                \"score\": float(probabilities[t, int(x // 2), int(y // 2)]),\n",
    "            }\n",
    "            assert node_id not in cand_graph.nodes\n",
    "            cand_graph.add_node(node_id, **attrs)\n",
    "    return cand_graph\n",
    "\n",
    "cand_graph = nodes_from_segmentation(segmentation)"
   ]
  },
  {
   "cell_type": "code",
   "execution_count": null,
   "id": "fb1361d7",
   "metadata": {},
   "outputs": [],
   "source": [
    "# run this cell to test your implementation of the candidate graph\n",
    "assert cand_graph.number_of_nodes() == 6123, f\"Found {cand_graph.number_of_nodes()} nodes, expected 6123\"\n",
    "assert cand_graph.number_of_edges() == 0, f\"Found {cand_graph.number_of_edges()} edges, expected 0\"\n",
    "for node, data in cand_graph.nodes(data=True):\n",
    "    assert type(node) == int, f\"Node id {node} has type {type(node)}, expected 'int'\"\n",
    "    assert \"t\" in data, f\"'t' attribute missing for node {node}\"\n",
    "    assert type(data[\"t\"]) == int, f\"'t' attribute has type {type(data['t'])}, expected 'int'\"\n",
    "    assert \"x\" in data, f\"'x' attribute missing for node {node}\"\n",
    "    assert type(data[\"x\"]) == float, f\"'x' attribute has type {type(data['x'])}, expected 'float'\"\n",
    "    assert \"y\" in data, f\"'y' attribute missing for node {node}\"\n",
    "    assert type(data[\"y\"]) == float, f\"'y' attribute has type {type(data['y'])}, expected 'float'\"\n",
    "    assert \"score\" in data, f\"'score' attribute missing for node {node}\"\n",
    "    assert type(data[\"score\"]) == float, f\"'score' attribute has type {type(data['score'])}, expected 'float'\"\n",
    "print(\"Your candidate graph passed all the tests!\")"
   ]
  },
  {
   "cell_type": "markdown",
   "id": "7c63ff1a",
   "metadata": {},
   "source": [
    "We can visualize our candidate points using the napari Points layer. You should see one point in the center of each segmentation when we display it using the below cell."
   ]
  },
  {
   "cell_type": "code",
   "execution_count": null,
   "id": "4ea6f3b7",
   "metadata": {},
   "outputs": [],
   "source": [
    "points_array = np.array([[data[\"t\"], data[\"x\"], data[\"y\"]] for node, data in cand_graph.nodes(data=True)])\n",
    "cand_points_layer = napari.layers.Points(data=points_array, name=\"cand_points\")\n",
    "viewer.add_layer(cand_points_layer)"
   ]
  },
  {
   "cell_type": "markdown",
   "id": "8f6831c0",
   "metadata": {},
   "source": [
    "### Adding Candidate Edges\n",
    "\n",
    "After extracting the nodes, we need to add candidate edges. The `add_cand_edges` function below adds candidate edges to a nodes-only graph by connecting all nodes in adjacent frames that are closer than a given max_edge_distance.\n",
    "\n",
    "Note: At the bottom of the cell, we add edges to our candidate graph with max_edge_distance=50. This is the maximum number of pixels that a cell centroid will be able to move between frames. If you want longer edges to be possible, you can increase this distance, but solving may take longer."
   ]
  },
  {
   "cell_type": "code",
   "execution_count": null,
   "id": "a25c283a",
   "metadata": {},
   "outputs": [],
   "source": [
    "def _compute_node_frame_dict(cand_graph: nx.DiGraph) -> dict[int, list[Any]]:\n",
    "    \"\"\"Compute dictionary from time frames to node ids for candidate graph.\n",
    "\n",
    "    Args:\n",
    "        cand_graph (nx.DiGraph): A networkx graph\n",
    "\n",
    "    Returns:\n",
    "        dict[int, list[Any]]: A mapping from time frames to lists of node ids.\n",
    "    \"\"\"\n",
    "    node_frame_dict: dict[int, list[Any]] = {}\n",
    "    for node, data in cand_graph.nodes(data=True):\n",
    "        t = data[\"t\"]\n",
    "        if t not in node_frame_dict:\n",
    "            node_frame_dict[t] = []\n",
    "        node_frame_dict[t].append(node)\n",
    "    return node_frame_dict\n",
    "\n",
    "def create_kdtree(cand_graph: nx.DiGraph, node_ids: Iterable[Any]) -> scipy.spatial.KDTree:\n",
    "    positions = [[cand_graph.nodes[node][\"x\"], cand_graph.nodes[node][\"y\"]] for node in node_ids]\n",
    "    return scipy.spatial.KDTree(positions)\n",
    "\n",
    "def add_cand_edges(\n",
    "    cand_graph: nx.DiGraph,\n",
    "    max_edge_distance: float,\n",
    ") -> None:\n",
    "    \"\"\"Add candidate edges to a candidate graph by connecting all nodes in adjacent\n",
    "    frames that are closer than max_edge_distance. Also adds attributes to the edges.\n",
    "\n",
    "    Args:\n",
    "        cand_graph (nx.DiGraph): Candidate graph with only nodes populated. Will\n",
    "            be modified in-place to add edges.\n",
    "        max_edge_distance (float): Maximum distance that objects can travel between\n",
    "            frames. All nodes within this distance in adjacent frames will by connected\n",
    "            with a candidate edge.\n",
    "        node_frame_dict (dict[int, list[Any]] | None, optional): A mapping from frames\n",
    "            to node ids. If not provided, it will be computed from cand_graph. Defaults\n",
    "            to None.\n",
    "    \"\"\"\n",
    "    print(\"Extracting candidate edges\")\n",
    "    node_frame_dict = _compute_node_frame_dict(cand_graph)\n",
    "\n",
    "    frames = sorted(node_frame_dict.keys())\n",
    "    prev_node_ids = node_frame_dict[frames[0]]\n",
    "    prev_kdtree = create_kdtree(cand_graph, prev_node_ids)\n",
    "    for frame in tqdm(frames):\n",
    "        if frame + 1 not in node_frame_dict:\n",
    "            continue\n",
    "        next_node_ids = node_frame_dict[frame + 1]\n",
    "        next_kdtree = create_kdtree(cand_graph, next_node_ids)\n",
    "\n",
    "        matched_indices = prev_kdtree.query_ball_tree(next_kdtree, max_edge_distance)\n",
    "\n",
    "        for prev_node_id, next_node_indices in zip(prev_node_ids, matched_indices):\n",
    "            for next_node_index in next_node_indices:\n",
    "                next_node_id = next_node_ids[next_node_index]\n",
    "                cand_graph.add_edge(prev_node_id, next_node_id)\n",
    "\n",
    "        prev_node_ids = next_node_ids\n",
    "        prev_kdtree = next_kdtree\n",
    "\n",
    "add_cand_edges(cand_graph, max_edge_distance=50)"
   ]
  },
  {
   "cell_type": "markdown",
   "id": "52929aab",
   "metadata": {},
   "source": [
    "Visualizing the candidate edges in napari is, unfortunately, not yet possible. However, we can print out the number of candidate nodes and edges, and compare it to the ground truth nodes and edgesedges. We should see that we have a few more candidate nodes than ground truth (due to false positive detections) and many more candidate edges than ground truth - our next step will be to use optimization to pick a subset of the candidate nodes and edges to generate our solution tracks."
   ]
  },
  {
   "cell_type": "code",
   "execution_count": null,
   "id": "8e08bbf8",
   "metadata": {},
   "outputs": [],
   "source": [
    "print(f\"Our candidate graph has {cand_graph.number_of_nodes()} nodes and {cand_graph.number_of_edges()} edges\")\n",
    "print(f\"Our ground truth track graph has {gt_tracks.number_of_nodes()} nodes and {gt_tracks.number_of_edges()}\")"
   ]
  },
  {
   "cell_type": "markdown",
   "id": "90fcb814",
   "metadata": {},
   "source": [
    "<div class=\"alert alert-block alert-success\"><h2>Checkpoint 1</h2>\n",
    "    We have visualized our data in napari and set up a candidate graph with all possible detections and links that we could select with our optimization task.\n",
    "\n",
    "We will now together go through the `motile` <a href=https://funkelab.github.io/motile/quickstart.html#sec-quickstart>quickstart</a> example before you actually set up and run your own motile optimization. If you reach this checkpoint early, feel free to start reading through the quickstart and think of questions you want to ask!\n",
    "</div>"
   ]
  },
  {
   "cell_type": "markdown",
   "id": "0402b52a",
   "metadata": {},
   "source": [
    "## Section 3 (Task 2): Set up the tracking optimization problem"
   ]
  },
  {
   "cell_type": "markdown",
   "id": "d647658f",
   "metadata": {},
   "source": [
    "As hinted earlier, our goal is to prune the candidate graph. More formally we want to find a graph $\\tilde{G}=(\\tilde{V}, \\tilde{E})$ whose vertices $\\tilde{V}$ are a subset of the candidate graph vertices $V$ and whose edges $\\tilde{E}$ are a subset of the candidate graph edges $E$.\n",
    "\n",
    "\n",
    "Finding a good subgraph $\\tilde{G}=(\\tilde{V}, \\tilde{E})$ can be formulated as an [integer linear program (ILP)](https://en.wikipedia.org/wiki/Integer_programming) (also, refer to the tracking lecture slides), where we assign a binary variable $x$ and a cost $c$ to each vertex and edge in $G$, and then computing $min_x c^Tx$.\n",
    "\n",
    "A set of linear constraints ensures that the solution will be a feasible cell tracking graph. For example, if an edge is part of $\\tilde{G}$, both its incident nodes have to be part of $\\tilde{G}$ as well.\n",
    "\n",
    "`motile` ([docs here](https://funkelab.github.io/motile/)), makes it easy to link with an ILP in python by implementing common linking constraints and costs."
   ]
  },
  {
   "cell_type": "markdown",
   "id": "6592a9de",
   "metadata": {},
   "source": [
    "<div class=\"alert alert-block alert-info\"><h3>Task 2: Set up a basic motile tracking pipeline</h3>\n",
    "<p>Use the motile <a href=https://funkelab.github.io/motile/quickstart.html#sec-quickstart>quickstart</a> example to set up a basic motile pipeline for our task.\n",
    "\n",
    "Here are some key similarities and differences between the quickstart and our task:\n",
    "<ul>\n",
    "    <li>We do not have scores on our edges. However, we can use the edge distance as a cost, so that longer edges are more costly than shorter edges. Instead of using the <code>EdgeSelection</code> cost, we can use the <a href=https://funkelab.github.io/motile/api.html#edgedistance><code>EdgeDistance</code></a> cost with <code>position_attribute=(\"x\", \"y\")</code>. You will want a positive weight, since higher distances should be more costly, unlike in the example when higher scores were good and so we inverted them with a negative weight.</li>\n",
    "    <li>Because distance is always positive, and you want a positive weight, you will want to include a negative constant on the <code>EdgeDistance</code> cost. If there are no negative selection costs, the ILP will always select nothing, because the cost of selecting nothing is zero.</li>\n",
    "    <li>We want to allow divisions. So, we should pass in 2 to our <code>MaxChildren</code> constraint. The <code>MaxParents</code> constraint should have 1, the same as the quickstart, because neither task allows merging.</li>\n",
    "    <li>You should include an <code>Appear</code> cost and a <code>NodeSelection</code> cost similar to the one in the quickstart.</li>\n",
    "</ul>\n",
    "\n",
    "Once you have set up the basic motile optimization task in the function below, you will probably need to adjust the weight and constant values on your costs until you get a solution that looks reasonable.\n",
    "\n",
    "</p>\n",
    "</div>\n"
   ]
  },
  {
   "cell_type": "code",
   "execution_count": null,
   "id": "9425a0fd",
   "metadata": {
    "tags": [
     "solution"
    ]
   },
   "outputs": [],
   "source": [
    "def solve_basic_optimization(cand_graph):\n",
    "    \"\"\"Set up and solve the network flow problem.\n",
    "\n",
    "    Args:\n",
    "        graph (nx.DiGraph): The candidate graph.\n",
    "\n",
    "    Returns:\n",
    "        nx.DiGraph: The networkx digraph with the selected solution tracks\n",
    "    \"\"\"\n",
    "    cand_trackgraph = motile.TrackGraph(cand_graph, frame_attribute=\"t\")\n",
    "    solver = motile.Solver(cand_trackgraph)\n",
    "    solver.add_cost(\n",
    "        motile.costs.NodeSelection(weight=-1.0, attribute=\"score\")\n",
    "    )\n",
    "    solver.add_cost(\n",
    "        motile.costs.EdgeDistance(weight=1, constant=-20, position_attribute=(\"x\", \"y\"))\n",
    "    )\n",
    "    solver.add_cost(motile.costs.Appear(constant=2.0))\n",
    "    solver.add_cost(motile.costs.Split(constant=1.0))\n",
    "\n",
    "    solver.add_constraint(motile.constraints.MaxParents(1))\n",
    "    solver.add_constraint(motile.constraints.MaxChildren(2))\n",
    "\n",
    "    solver.solve(timeout=120)\n",
    "    solution_graph = graph_to_nx(solver.get_selected_subgraph())\n",
    "    return solution_graph"
   ]
  },
  {
   "cell_type": "markdown",
   "id": "f9de25a4",
   "metadata": {},
   "source": [
    "Here is a utility function to gauge some statistics of a solution."
   ]
  },
  {
   "cell_type": "code",
   "execution_count": null,
   "id": "b6eb3c63",
   "metadata": {},
   "outputs": [],
   "source": [
    "def print_graph_stats(graph, name):\n",
    "    print(f\"{name}\\t\\t{graph.number_of_nodes()} nodes\\t{graph.number_of_edges()} edges\\t{len(list(nx.weakly_connected_components(graph)))} tracks\")"
   ]
  },
  {
   "cell_type": "markdown",
   "id": "766fbffa",
   "metadata": {},
   "source": [
    "Here we actually run the optimization, and compare the found solution to the ground truth.\n",
    "\n",
    "<div class=\"alert alert-block alert-warning\"><h4>Gurobi license error</h4>\n",
    "Please ignore the warning `Could not create Gurobi backend ...`.\n",
    "\n",
    "\n",
    "Our integer linear program (ILP) tries to use the proprietary solver Gurobi. You probably don't have a license, in which case the ILP will fall back to the open source solver SCIP.\n",
    "\n",
    "SCIP is slower than Gurobi - to deal with this, we add a 120 second timeout to the solve call, which should approximate the truly optimal solution. For larger problems, or cases where getting the most optimal solution is crucial, one could increase the timeout or get a Gurobi license (recommended).\n",
    "</div>"
   ]
  },
  {
   "cell_type": "code",
   "execution_count": null,
   "id": "4bfeba52",
   "metadata": {},
   "outputs": [],
   "source": [
    "# run this cell to actually run the solving and get a solution\n",
    "solution_graph = solve_basic_optimization(cand_graph)\n",
    "\n",
    "# then print some statistics about the solution compared to the ground truth\n",
    "print_graph_stats(solution_graph, \"solution\")\n",
    "print_graph_stats(gt_tracks, \"gt tracks\")"
   ]
  },
  {
   "cell_type": "markdown",
   "id": "127a25c8",
   "metadata": {},
   "source": [
    "If you haven't selected any nodes or edges in your solution, try adjusting your weight and/or constant values. Make sure you have some negative costs or selecting nothing will always be the best solution!"
   ]
  },
  {
   "cell_type": "markdown",
   "id": "b946907f",
   "metadata": {},
   "source": [
    "<div class=\"alert alert-block alert-warning\"><h3>Question 1: Interpret your results based on statistics</h3>\n",
    "<p>\n",
    "What do these printed statistics tell you about your solution? What else would you like to know?\n",
    "</p>\n",
    "</div>"
   ]
  },
  {
   "cell_type": "markdown",
   "id": "b55ae9b1",
   "metadata": {},
   "source": [
    "## Section 4: Visualize the Result\n",
    "Rather than just looking at printed statistics about our solution, let's visualize it in `napari`.\n",
    "\n",
    "Before we can create our MotileRun, we need to create an output segmentation from our solution. Our output segmentation differs from our input segmentation in two main ways:\n",
    "1. Not all candidate nodes will be selected in our solution graph. We need to filter the masks corresponding to the un-selected candidate detections out of the output segmentation.\n",
    "2. Segmentations will be relabeled so that the same cell will be the same label (and thus color) over time. Cells will still change label/color at division.\n",
    "\n",
    "Note that bad tracking results at this point does not mean that you implemented anything wrong! We still need to customize our costs and constraints to the task before we can get good results. As long as your pipeline selects something, and you can kind of interepret why it is going wrong, that is all that is needed at this point."
   ]
  },
  {
   "cell_type": "code",
   "execution_count": null,
   "id": "7944438a",
   "metadata": {},
   "outputs": [],
   "source": [
    "def relabel_segmentation(\n",
    "    solution_nx_graph: nx.DiGraph,\n",
    "    segmentation: np.ndarray,\n",
    ") -> np.ndarray:\n",
    "    \"\"\"Relabel a segmentation based on tracking results to get the output segmentation.\n",
    "\n",
    "    Args:\n",
    "        solution_nx_graph (nx.DiGraph): Networkx graph with the solution to use\n",
    "            for relabeling. Nodes not in graph will be removed from seg.\n",
    "        segmentation (np.ndarray): Original segmentation with dimensions (t,y,x)\n",
    "\n",
    "    Returns:\n",
    "        np.ndarray: Relabeled segmentation array where nodes in same track share same\n",
    "            id with shape (t,y,x)\n",
    "    \"\"\"\n",
    "    assign_tracklet_ids(solution_nx_graph)\n",
    "    tracked_masks = np.zeros_like(segmentation)\n",
    "    for node, data in solution_nx_graph.nodes(data=True):\n",
    "        time_frame = solution_nx_graph.nodes[node][\"t\"]\n",
    "        previous_seg_id = node\n",
    "        track_id = solution_nx_graph.nodes[node][\"track_id\"]\n",
    "        previous_seg_mask = (\n",
    "            segmentation[time_frame] == previous_seg_id\n",
    "        )\n",
    "        tracked_masks[time_frame][previous_seg_mask] = track_id\n",
    "    return tracked_masks\n",
    "\n",
    "solution_seg = relabel_segmentation(solution_graph, segmentation)"
   ]
  },
  {
   "cell_type": "code",
   "execution_count": null,
   "id": "d2c6f550",
   "metadata": {},
   "outputs": [],
   "source": [
    "basic_run = MotileRun(\n",
    "    run_name=\"basic_solution\",\n",
    "    tracks=solution_graph,\n",
    "    output_segmentation=np.expand_dims(solution_seg, axis=1)  # need to add a dummy dimension to fit API\n",
    ")\n",
    "\n",
    "widget.view_controller.update_napari_layers(basic_run, time_attr=\"t\", pos_attr=(\"x\", \"y\"))"
   ]
  },
  {
   "cell_type": "markdown",
   "id": "733d5089",
   "metadata": {},
   "source": [
    "<div class=\"alert alert-block alert-warning\"><h3>Question 2: Interpret your results based on visualization</h3>\n",
    "<p>\n",
    "How is your solution based on looking at the visualization? When is it doing well? When is it doing poorly?\n",
    "</p>\n",
    "</div>\n"
   ]
  },
  {
   "cell_type": "markdown",
   "id": "2370a8b4",
   "metadata": {},
   "source": [
    "<div class=\"alert alert-block alert-success\"><h2>Checkpoint 2</h2>\n",
    "We will discuss the exercise up to this point as a group shortly, and then give a brief overview of quantitative tracking evaluation. If you reach this checkpoint early, you can start looking at the tracking metrics described in the next section.\n",
    "</div>"
   ]
  },
  {
   "cell_type": "markdown",
   "id": "ce31c75f",
   "metadata": {
    "lines_to_next_cell": 2
   },
   "source": [
    "## Section 5 (Task 3): Evaluation Metrics\n",
    "\n",
    "We were able to understand via visualizing the predicted tracks on the images that the basic solution is far from perfect for this problem. Additionally, we would also like to quantify this. We will use the package [`traccuracy`](https://traccuracy.readthedocs.io/en/latest/) to learn about and compute cell tracking metrics. While we looked at the basic documentation together during the checkpoint, take some time now to do a deeper dive into the matchers and metrics available, considering which metrics you might want to focus on for different biological analyses."
   ]
  },
  {
   "cell_type": "markdown",
   "id": "c64a2d31",
   "metadata": {},
   "source": [
    "<div class=\"alert alert-block alert-warning\"><h3>Question 3: Matchers and Metrics</h3>\n",
    "<p>\n",
    "<ul>\n",
    "  <li>The example code we provide uses an <a href=https://traccuracy.readthedocs.io/en/latest/matchers/matchers.html>IOU Matcher</a>, which has a hyperparameter of \"iou_threshold\". How could changing the IOU threshold influence the quantitative output? What other matchers could we have chosen?</li>\n",
    "  <li>What metrics would you like to know about for algorithm development? What about for downstream biological analysis?</li>\n",
    "</ul>\n",
    "</p>\n",
    "</div>\n"
   ]
  },
  {
   "cell_type": "markdown",
   "id": "b3c1850a",
   "metadata": {
    "lines_to_next_cell": 2
   },
   "source": [
    "The example code below uses an IOU matcher and computes the following metrics:\n",
    "\n",
    "- **TRA**: TRA is a metric established by the [Cell Tracking Challenge](http://celltrackingchallenge.net). It compares your solution graph to the ground truth graph and measures how many changes to edges and nodes would need to be made in order to make the graphs identical. TRA ranges between 0 and 1 with 1 indicating a perfect match between the solution and the ground truth. While TRA is convenient to use in that it gives us a single number, it doesn't tell us what type of mistakes are being made in our solution.\n",
    "- **Node Errors**: We can look at the number of false positive and false negative nodes in our solution which tells us how how many cells are being incorrectly included or excluded from the solution.\n",
    "- **Edge Errors**: Similarly, the number of false positive and false negative edges in our graph helps us assess what types of mistakes our solution is making when linking cells between frames.\n",
    "- **Division Errors**: Finally, as biologists we are often very interested in the division events that occur and want to ensure that they are being accurately identified. We can look at the number of true positive, false positive and false negative divisions to assess how our solution is capturing these important events.\n"
   ]
  },
  {
   "cell_type": "markdown",
   "id": "f75eff79",
   "metadata": {},
   "source": [
    "The metrics we want to compute require a ground truth segmentation. Since we do not have a ground truth segmentation, we can make one by drawing a circle around each ground truth detection. While not perfect, it will be good enough to match ground truth to predicted detections in order to compute metrics."
   ]
  },
  {
   "cell_type": "code",
   "execution_count": null,
   "id": "09223b87",
   "metadata": {},
   "outputs": [],
   "source": [
    "from skimage.draw import disk\n",
    "def make_gt_detections(data_shape, gt_tracks, radius):\n",
    "    segmentation = np.zeros(data_shape, dtype=\"uint32\")\n",
    "    frame_shape = data_shape[1:]\n",
    "    # make frame with one cell in center with label 1\n",
    "    for node, data in gt_tracks.nodes(data=True):\n",
    "        pos = (data[\"x\"], data[\"y\"])\n",
    "        time = data[\"t\"]\n",
    "        gt_tracks.nodes[node][\"label\"] = node\n",
    "        rr, cc = disk(center=pos, radius=radius, shape=frame_shape)\n",
    "        segmentation[time][rr, cc] = node\n",
    "    return segmentation\n",
    "\n",
    "gt_dets = make_gt_detections(data_root[\"raw\"].shape, gt_tracks, 10)"
   ]
  },
  {
   "cell_type": "markdown",
   "id": "b38935d3",
   "metadata": {},
   "source": [
    "We then construct two `traccuracy.TrackingGraph` objects, one for ground truth and one for prediction, and then call `traccuracy.run_metrics` with our chosen matcher and metrics. The output is saved into a pandas data frame for easy comparison when we compute multiple solutions."
   ]
  },
  {
   "cell_type": "code",
   "execution_count": null,
   "id": "7508e0e3",
   "metadata": {},
   "outputs": [],
   "source": [
    "import pandas as pd\n",
    "\n",
    "def get_metrics(gt_graph, labels, run, results_df):\n",
    "    \"\"\"Calculate metrics for linked tracks by comparing to ground truth.\n",
    "\n",
    "    Args:\n",
    "        gt_graph (networkx.DiGraph): Ground truth graph.\n",
    "        labels (np.ndarray): Ground truth detections.\n",
    "        run (MotileRun): Instance of Motilerun\n",
    "        results_df (pd.DataFrame): Dataframe containing any prior results\n",
    "\n",
    "    Returns:\n",
    "        results (pd.DataFrame): Dataframe of evaluation results\n",
    "    \"\"\"\n",
    "    gt_graph = traccuracy.TrackingGraph(\n",
    "        graph=nx.DiGraph(gt_graph.copy()),\n",
    "        frame_key=\"t\",\n",
    "        label_key=\"label\",\n",
    "        location_keys=(\"x\", \"y\"),\n",
    "        segmentation=labels,\n",
    "    )\n",
    "\n",
    "    pred_graph = traccuracy.TrackingGraph(\n",
    "        graph=run.tracks,\n",
    "        frame_key=\"t\",\n",
    "        label_key=\"track_id\",\n",
    "        location_keys=(\"x\", \"y\"),\n",
    "        segmentation=np.squeeze(run.output_segmentation),\n",
    "    )\n",
    "\n",
    "    results, _ = traccuracy.run_metrics(\n",
    "        gt_data=gt_graph,\n",
    "        pred_data=pred_graph,\n",
    "        matcher=IOUMatcher(iou_threshold=0.3, one_to_one=True),\n",
    "        metrics=[CTCMetrics(), DivisionMetrics()],\n",
    "    )\n",
    "    columns = [\"fp_nodes\", \"fn_nodes\", \"fp_edges\", \"fn_edges\", \"TRA\", \"True Positive Divisions\", \"False Positive Divisions\", \"False Negative Divisions\"]\n",
    "    results_filtered = {}\n",
    "    results_filtered.update(results[0][\"results\"])\n",
    "    results_filtered.update(results[1][\"results\"][\"Frame Buffer 0\"])\n",
    "    results_filtered[\"name\"] = run.run_name\n",
    "    current_result = pd.DataFrame(results_filtered, index=[0])[[\"name\"] + columns]\n",
    "\n",
    "    if results_df is None:\n",
    "        results_df = current_result\n",
    "    else:\n",
    "        results_df = pd.concat([results_df, current_result])\n",
    "\n",
    "    return results_df"
   ]
  },
  {
   "cell_type": "code",
   "execution_count": null,
   "id": "8ebf80ec",
   "metadata": {},
   "outputs": [],
   "source": [
    "results_df = None\n",
    "results_df = get_metrics(gt_tracks, gt_dets, basic_run, results_df)\n",
    "results_df"
   ]
  },
  {
   "cell_type": "markdown",
   "id": "e107ddd2",
   "metadata": {},
   "source": [
    "<div class=\"alert alert-block alert-warning\"><h3>Question 3: Interpret your results based on metrics</h3>\n",
    "<p>\n",
    "What additional information, if any, do the metrics give you compared to the statistics and the visualization?\n",
    "</p>\n",
    "</div>\n"
   ]
  },
  {
   "cell_type": "markdown",
   "id": "151dc7ce",
   "metadata": {},
   "source": [
    "<div class=\"alert alert-block alert-info\"><h3>Task 3 (Optional): Adapt the above code to use your preferred matchers and metrics</h3>\n",
    "<p>If there are additional metrics you found interesting from the documentation, you can try to add them now! The <a href=https://traccuracy.readthedocs.io/en/latest/metrics/ctc.html#ctc-bio-metrics>CTC Bio metrics</a> are an easy option to add, since they require the same matching we are already doing. You can also vary the IOUThreshold and see how it affects the scores reported. If you want a challenge, you can try using a different <a href=https://traccuracy.readthedocs.io/en/latest/matchers/matchers.html>matcher</a> or adding the <a href=https://traccuracy.readthedocs.io/en/latest/metrics/track_overlap.html>TrackOverlap</a> or <a href=https://traccuracy.readthedocs.io/en/latest/metrics/chota.html>CHOTA</a> metrics.</p>\n",
    "</div>"
   ]
  },
  {
   "cell_type": "markdown",
   "id": "d8c046de",
   "metadata": {},
   "source": [
    "<div class=\"alert alert-block alert-success\"><h2>Checkpoint 3</h2>\n",
    "If you reach this checkpoint with extra time, think about what kinds of improvements you could make to the costs and constraints to fix the issues that you are seeing. You can try tuning your weights and constants, or adding or removing motile Costs and Constraints, and seeing how that changes the output. We have added a convenience function in the box below where you can copy your solution from above, adapt it, and run the whole pipeline including visualization and metrics computation.\n",
    "\n",
    "Do not get frustrated if you cannot get good results yet! Try to think about why and what custom costs we might add.\n",
    "</div>"
   ]
  },
  {
   "cell_type": "code",
   "execution_count": null,
   "id": "0b0e1732",
   "metadata": {
    "lines_to_next_cell": 2,
    "tags": [
     "solution"
    ]
   },
   "outputs": [],
   "source": [
    "def adapt_basic_optimization(cand_graph):\n",
    "    \"\"\"Set up and solve the network flow problem.\n",
    "\n",
    "    Args:\n",
    "        graph (nx.DiGraph): The candidate graph.\n",
    "\n",
    "    Returns:\n",
    "        nx.DiGraph: The networkx digraph with the selected solution tracks\n",
    "    \"\"\"\n",
    "    cand_trackgraph = motile.TrackGraph(cand_graph, frame_attribute=\"t\")\n",
    "    solver = motile.Solver(cand_trackgraph)\n",
    "    solver.add_cost(\n",
    "        motile.costs.NodeSelection(weight=-5.0, constant=2.5, attribute=\"score\")\n",
    "    )\n",
    "    solver.add_cost(\n",
    "        motile.costs.EdgeDistance(weight=1, constant=-20, position_attribute=(\"x\", \"y\"))\n",
    "    )\n",
    "    solver.add_cost(motile.costs.Appear(constant=20.0))\n",
    "    solver.add_cost(motile.costs.Split(constant=15.0))\n",
    "\n",
    "    solver.add_constraint(motile.constraints.MaxParents(1))\n",
    "    solver.add_constraint(motile.constraints.MaxChildren(2))\n",
    "    solver.solve(timeout=120)\n",
    "    solution_graph = graph_to_nx(solver.get_selected_subgraph())\n",
    "\n",
    "    return solution_graph\n",
    "\n",
    "def run_pipeline(cand_graph, run_name, results_df):\n",
    "    solution_graph = adapt_basic_optimization(cand_graph)\n",
    "    solution_seg = relabel_segmentation(solution_graph, segmentation)\n",
    "    run = MotileRun(\n",
    "        run_name=run_name,\n",
    "        tracks=solution_graph,\n",
    "        output_segmentation=np.expand_dims(solution_seg, axis=1)  # need to add a dummy dimension to fit API\n",
    "    )\n",
    "    widget.view_controller.update_napari_layers(run, time_attr=\"t\", pos_attr=(\"x\", \"y\"))\n",
    "    results_df = get_metrics(gt_tracks, gt_dets, run, results_df)\n",
    "    return results_df\n",
    "\n",
    "results_df = run_pipeline(cand_graph, \"basic_solution_2\", results_df)\n",
    "results_df"
   ]
  },
  {
   "cell_type": "markdown",
   "id": "13462390",
   "metadata": {},
   "source": [
    "## Section 6 (Task 4): Incorporating prior knowledge\n",
    "\n",
    "There 3 main ways to encode prior knowledge about your task into the motile tracking pipeline.\n",
    "1. Add an attribute to the candidate graph and incorporate it with an existing cost\n",
    "2. Change the structure of the candidate graph\n",
    "3. Add a new type of cost or constraint\n",
    "\n",
    "The first way is the most common, and is quite flexible, so we will focus on an example of this type of customization."
   ]
  },
  {
   "cell_type": "markdown",
   "id": "ae6e69fc",
   "metadata": {},
   "source": [
    "### Incorporating Known Direction of Motion\n",
    "\n",
    "So far, we have been using motile's EdgeDistance as an edge selection cost, which penalizes longer edges by computing the Euclidean distance between the endpoints. However, in our dataset we see a trend of upward motion in the cells, and the false detections at the top are not moving. If we penalize movement based on what we expect, rather than Euclidean distance, we can select more correct cells and penalize the non-moving artefacts at the same time.\n",
    "\n"
   ]
  },
  {
   "cell_type": "markdown",
   "id": "80d62e06",
   "metadata": {},
   "source": [
    "<div class=\"alert alert-block alert-info\"><h3>Task 4a: Add a drift distance attribute</h3>\n",
    "<p> For this task, we need to determine the \"expected\" amount of motion, then add an attribute to our candidate edges that represents distance from the expected motion direction. Look at the dataset in `napari` and see how much the cells move on average, and in which direction, to get the expected \"drift\" quantity. The average edge direction in the ground truth annotations could also be used to verify the drift distance, but since we are evaluating on this dataset as well, that could be considered \"cheating.\"</p>\n",
    "</div>"
   ]
  },
  {
   "cell_type": "code",
   "execution_count": null,
   "id": "815f4a3a",
   "metadata": {
    "tags": [
     "solution"
    ]
   },
   "outputs": [],
   "source": [
    "drift = np.array([-10, 0])\n",
    "\n",
    "def add_drift_dist_attr(cand_graph, drift):\n",
    "    for edge in cand_graph.edges():\n",
    "        source, target = edge\n",
    "        source_data = cand_graph.nodes[source]\n",
    "        source_pos = np.array([source_data[\"x\"], source_data[\"y\"]])\n",
    "        target_data = cand_graph.nodes[target]\n",
    "        target_pos = np.array([target_data[\"x\"], target_data[\"y\"]])\n",
    "        expected_target_pos = source_pos + drift\n",
    "        drift_dist = np.linalg.norm(expected_target_pos - target_pos)\n",
    "        cand_graph.edges[edge][\"drift_dist\"] = drift_dist\n",
    "\n",
    "add_drift_dist_attr(cand_graph, drift)"
   ]
  },
  {
   "cell_type": "markdown",
   "id": "bed58ec7",
   "metadata": {},
   "source": [
    "<div class=\"alert alert-block alert-info\"><h3>Task 4b: Add a drift distance attribute</h3>\n",
    "<p> Now, we set up yet another solving pipeline. This time, we will replace our EdgeDistance\n",
    "cost with an EdgeSelection cost using our new \"drift_dist\" attribute. The weight should be positive, since a higher distance from the expected drift should cost more, similar to our prior EdgeDistance cost. Also similarly, we need a negative constant to make sure that the overall cost of selecting tracks is negative.</p>\n",
    "</div>"
   ]
  },
  {
   "cell_type": "code",
   "execution_count": null,
   "id": "70480cc5",
   "metadata": {
    "tags": [
     "solution"
    ]
   },
   "outputs": [],
   "source": [
    "def solve_drift_optimization(cand_graph):\n",
    "    \"\"\"Set up and solve the ILP\n",
    "\n",
    "    Args:\n",
    "        cand_graph (nx.DiGraph): The candidate graph.\n",
    "\n",
    "    Returns:\n",
    "        nx.DiGraph: The networkx digraph with the selected solution tracks\n",
    "    \"\"\"\n",
    "\n",
    "    cand_trackgraph = motile.TrackGraph(cand_graph, frame_attribute=\"t\")\n",
    "    solver = motile.Solver(cand_trackgraph)\n",
    "    solver.add_cost(\n",
    "        motile.costs.NodeSelection(weight=-100, constant=75, attribute=\"score\")\n",
    "    )\n",
    "    solver.add_cost(\n",
    "        motile.costs.EdgeSelection(weight=1.0, constant=-30, attribute=\"drift_dist\")\n",
    "    )\n",
    "    solver.add_cost(motile.costs.Appear(constant=40.0))\n",
    "    solver.add_cost(motile.costs.Split(constant=45.0))\n",
    "\n",
    "    solver.add_constraint(motile.constraints.MaxParents(1))\n",
    "    solver.add_constraint(motile.constraints.MaxChildren(2))\n",
    "\n",
    "    solver.solve(timeout=120)\n",
    "    solution_graph = graph_to_nx(solver.get_selected_subgraph())\n",
    "    return solution_graph\n",
    "\n",
    "\n",
    "def run_pipeline(cand_graph, run_name, results_df):\n",
    "    solution_graph = solve_drift_optimization(cand_graph)\n",
    "    solution_seg = relabel_segmentation(solution_graph, segmentation)\n",
    "    run = MotileRun(\n",
    "        run_name=run_name,\n",
    "        tracks=solution_graph,\n",
    "        output_segmentation=np.expand_dims(solution_seg, axis=1)  # need to add a dummy dimension to fit API\n",
    "    )\n",
    "    widget.view_controller.update_napari_layers(run, time_attr=\"t\", pos_attr=(\"x\", \"y\"))\n",
    "    results_df = get_metrics(gt_tracks, gt_dets, run, results_df)\n",
    "    return results_df\n",
    "\n",
    "# Don't forget to rename your run if you re-run this cell!\n",
    "results_df = run_pipeline(cand_graph, \"drift_dist\", results_df)\n",
    "results_df"
   ]
  },
  {
   "cell_type": "markdown",
   "id": "15d99a0f",
   "metadata": {},
   "source": [
    "<div class=\"alert alert-block alert-warning\"><h3>Question 4</h3>\n",
    "If you have picked good weights, this approach should generally do better than the previous distance based approach. Don't forget to look at the results visually to qualitatively evaluate your solutions!\n",
    "<ul>\n",
    "  <li>On what metrics is it better? On what metrics might it be worse? What do you see visually about where your model does well or poorly?</li>\n",
    "  <li>What are other situations where you can incorporate prior knowledge about the dataset into the costs and weights you choose to add? In what situations is this difficult?</li>\n",
    "</ul>\n",
    "</div>"
   ]
  },
  {
   "cell_type": "markdown",
   "id": "7f9dd72d",
   "metadata": {},
   "source": [
    "## Section 7 (Task 5) - Incorporating Trackastra Scores\n",
    "\n",
    "[Trackastra](https://www.ecva.net/papers/eccv_2024/papers_ECCV/papers/09819.pdf) is a transformer-based method for cell tracking. The method trains a transformer to predict an association score for each possible edge in the candidate graph, and then uses that score combined with distance to perform linking. The [trackastra package](https://github.com/weigertlab/trackastra) has published a general 2D model trained on a variety of datasets, which we will use to predict edge scores for our candidate graph. We will then incorporate the scores into our ILP in a similar fashion to our hand-crafted drift distance."
   ]
  },
  {
   "cell_type": "code",
   "execution_count": null,
   "id": "5fb0c61a",
   "metadata": {},
   "outputs": [],
   "source": [
    "# download the pretrained model\n",
    "model = trackastra.model.Trackastra.from_pretrained(\"general_2d\", device=\"automatic\")\n",
    "# predict\n",
    "predictions = model._predict(image_data, segmentation)\n",
    "trackastra_nodes = predictions[\"nodes\"]\n",
    "trackastra_scores = predictions[\"weights\"]\n",
    "# show representative outputs\n",
    "print(\"Example node output:\", trackastra_nodes[0])\n",
    "print(\"Example score output\", trackastra_scores[0])"
   ]
  },
  {
   "cell_type": "markdown",
   "id": "4480089e",
   "metadata": {},
   "source": [
    "You can see that the trackastra model prediction outputs a set of nodes. Each node has:\n",
    "- `id`, the trackastra defined identifier for the node\n",
    "- `coords`, the location of the node in space\n",
    "- `time`, the time frame of the node\n",
    "- `label`, the label of the segmentation that was used to create the node\n",
    "\n",
    "Trackastra likely does something very similar to the regionprops approach you used in Task 1 to get the nodes from the segmentation labels. However, there is an obvious difference: we used the label as the node id, because we knew our segmentation labels did not repeat across time. Since Trackastra does not assume this, it assigns a new `id` for each node.\n",
    "\n",
    "Trackastra also outputs a list of scores. Each score has:\n",
    "- A tuple of node IDs, corresponding to the `id` field in the nodes list\n",
    "- A float association score between 0 and 1, with higher values indicating that the model believes the nodes are the same or mother/daughter cells, and a low value indicating the model does not think the cells are associated. By default, scores below 0.05 are not included, although this setting can be changed.\n",
    "\n",
    "The code below adds a \"trackastra_score\" attribute to each edge in our candidate graph."
   ]
  },
  {
   "cell_type": "code",
   "execution_count": null,
   "id": "ee49e87c",
   "metadata": {},
   "outputs": [],
   "source": [
    "def add_trackastra_score_attr(cand_graph: nx.DiGraph, trackastra_nodes, trackastra_scores):\n",
    "    # create a mapping from trackastra node ids to our node ids (which are the segmentation label)\n",
    "    node_id_map = {\n",
    "        node[\"id\"]: int(node[\"label\"]) for node in trackastra_nodes\n",
    "    }\n",
    "    # find the candidate edge for each predicted score and add the attribute\n",
    "    for edge, score in trackastra_scores:\n",
    "        source, target = edge\n",
    "        cand_source = node_id_map[int(source)]\n",
    "        cand_target = node_id_map[int(target)]\n",
    "        if cand_graph.has_edge(cand_source, cand_target):\n",
    "            cand_graph.edges[(cand_source, cand_target)][\"trackastra_score\"] = score\n",
    "\n",
    "    # add a score of 0 to all edges that were not included in the trackastra predictions\n",
    "    for source, target, data in cand_graph.edges(data=True):\n",
    "        if \"trackastra_score\" not in data:\n",
    "            cand_graph.edges[(source, target)][\"trackastra_score\"] = 0\n",
    "\n",
    "# run the function to add the predicted trackastra scores to our candidate graph\n",
    "add_trackastra_score_attr(cand_graph, trackastra_nodes, trackastra_scores)"
   ]
  },
  {
   "cell_type": "markdown",
   "id": "8df86294",
   "metadata": {},
   "source": [
    "<div class=\"alert alert-block alert-info\"><h3>Task 5: Solve with trackastra scores</h3>\n",
    "<p> Now that our candidate graph contains trackastra scores, we set up our final solving pipeline! You should include an EdgeSelection cost based on the \"trackastra_score\" attribute. Trackastra scores are between 0 and 1, with higher scores being better. Should the weight be positive or negative? Remember, we are minimizing the total cost, so we will pick the edges that have the smallest/most negative cost. </p>\n",
    "<p>You can choose what other costs (if any) to combine with the trackastra score, and how to weight them against each other. </p>\n",
    "</div>"
   ]
  },
  {
   "cell_type": "code",
   "execution_count": null,
   "id": "7b3f9f88",
   "metadata": {
    "tags": [
     "solution"
    ]
   },
   "outputs": [],
   "source": [
    "def solve_trackastra_optimization(cand_graph):\n",
    "    \"\"\"Set up and solve the ILP\n",
    "\n",
    "    Args:\n",
    "        cand_graph (nx.DiGraph): The candidate graph.\n",
    "\n",
    "    Returns:\n",
    "        nx.DiGraph: The networkx digraph with the selected solution tracks\n",
    "    \"\"\"\n",
    "\n",
    "    cand_trackgraph = motile.TrackGraph(cand_graph, frame_attribute=\"t\")\n",
    "    solver = motile.Solver(cand_trackgraph)\n",
    "    solver.add_cost(\n",
    "        motile.costs.NodeSelection(weight=-100, constant=75, attribute=\"score\")\n",
    "    )\n",
    "    solver.add_cost(\n",
    "        motile.costs.EdgeSelection(weight=1.0, constant=-30, attribute=\"drift_dist\"), name=\"drift\"\n",
    "    )\n",
    "    solver.add_cost(\n",
    "        motile.costs.EdgeSelection(weight=-50, constant=25, attribute=\"trackastra_score\"), name=\"trackastra\"\n",
    "    )\n",
    "    solver.add_cost(motile.costs.Appear(constant=40.0))\n",
    "    solver.add_cost(motile.costs.Split(constant=45.0))\n",
    "\n",
    "    solver.add_constraint(motile.constraints.MaxParents(1))\n",
    "    solver.add_constraint(motile.constraints.MaxChildren(2))\n",
    "\n",
    "    solver.solve(timeout=120)\n",
    "    solution_graph = graph_to_nx(solver.get_selected_subgraph())\n",
    "    return solution_graph\n",
    "\n",
    "\n",
    "def run_pipeline(cand_graph, run_name, results_df):\n",
    "    solution_graph = solve_trackastra_optimization(cand_graph)\n",
    "    solution_seg = relabel_segmentation(solution_graph, segmentation)\n",
    "    run = MotileRun(\n",
    "        run_name=run_name,\n",
    "        tracks=solution_graph,\n",
    "        output_segmentation=np.expand_dims(solution_seg, axis=1)  # need to add a dummy dimension to fit API\n",
    "    )\n",
    "    widget.view_controller.update_napari_layers(run, time_attr=\"t\", pos_attr=(\"x\", \"y\"))\n",
    "    results_df = get_metrics(gt_tracks, gt_dets, run, results_df)\n",
    "    return results_df\n",
    "\n",
    "# Don't forget to rename your run if you re-run this cell!\n",
    "results_df = run_pipeline(cand_graph, \"trackastra\", results_df)\n",
    "results_df"
   ]
  },
  {
   "cell_type": "markdown",
   "id": "89b8402f",
   "metadata": {},
   "source": [
    "<div class=\"alert alert-block alert-warning\"><h3>Question 5</h3>\n",
    "<ul>\n",
    "  <li>How do the learned Trackastra scores compare to your hand crafted scores? </li>\n",
    "  <li>What types of mistakes does your best model make?</li>\n",
    "  <li>How could you improve the results even further? </li>\n",
    "</ul>\n",
    "</div>"
   ]
  },
  {
   "cell_type": "markdown",
   "id": "48500f8f",
   "metadata": {},
   "source": [
    "<div class=\"alert alert-block alert-success\"><h2>Checkpoint 4</h2>\n",
    "That is the end of the main exercise! If you have extra time, feel free to keep tuning your costs, examining the metrics and visualization tools, or try the bonus trackmate exercise."
   ]
  },
  {
   "cell_type": "code",
   "execution_count": null,
   "id": "f7f83e14",
   "metadata": {},
   "outputs": [],
   "source": []
  }
 ],
 "metadata": {
  "jupytext": {
   "cell_metadata_filter": "all",
   "custom_cell_magics": "kql",
   "encoding": "# -*- coding: utf-8 -*-",
   "formats": "py:percent,ipynb"
  },
  "kernelspec": {
   "display_name": "09-tracking",
   "language": "python",
   "name": "09-tracking"
  }
 },
 "nbformat": 4,
 "nbformat_minor": 5
}
