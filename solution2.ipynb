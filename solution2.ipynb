{
 "cells": [
  {
   "cell_type": "markdown",
   "id": "d957715b",
   "metadata": {},
   "source": [
    "# Exercise 2: Tracking-by-detection with an integer linear program (ILP)\n",
    "\n",
    "You could also run this notebook on your laptop, a GPU is not needed :).\n",
    "\n",
    "<div class=\"alert alert-danger\">\n",
    "Set your python kernel to <code>08-ilp-tracking</code>\n",
    "</div>\n",
    "\n",
    "You will learn\n",
    "- how linking with global context can be modeled and solved efficiently as a **network flow** using `motile` ([docs here](https://funkelab.github.io/motile/)) for a small-scale problem (Exercise 3.1).\n",
    "- to adapt the previous formulation to allow for **arbitrary track starting and ending points** (Exercise 3.2).\n",
    "- to extend the ILP to properly model **cell divisions** (Exercise 3.3).\n",
    "- to tune the **hyperparameters** of the ILP (Exercise 3.4).\n",
    "\n",
    "\n",
    "Places where you are expected to write code are marked with\n",
    "```\n",
    "######################\n",
    "### YOUR CODE HERE ###\n",
    "######################\n",
    "```\n",
    "\n",
    "This notebook was originally written by Benjamin Gallusser."
   ]
  },
  {
   "cell_type": "markdown",
   "id": "9e62dc35-083f-49cf-b4b4-f916b3265de7",
   "metadata": {},
   "source": [
    "TODO remove\n",
    "1. Obligatory conda install the following packages to solve the environment:\n",
    "    - napari\n",
    "    - jupyter-lab\n",
    "    - conda install -c conda-forge -c gurobi -c funkelab ilpy\n",
    "1. Install motile directly from Github: `pip install git+https://github.com/funkelab/motile`"
   ]
  },
  {
   "cell_type": "markdown",
   "id": "dd566a93",
   "metadata": {
    "tags": []
   },
   "source": [
    "## Import packages"
   ]
  },
  {
   "cell_type": "code",
   "execution_count": null,
   "id": "9690ea9a",
   "metadata": {},
   "outputs": [],
   "source": [
    "# Notebook at full width in the browser\n",
    "from IPython.display import display, HTML\n",
    "display(HTML(\"<style>.container { width:100% !important; }</style>\"))\n",
    "\n",
    "# TODO remove unnecessary imports, automatically with black\n",
    "import sys\n",
    "import time\n",
    "from urllib.request import urlretrieve\n",
    "from pathlib import Path\n",
    "from collections import defaultdict\n",
    "from abc import ABC, abstractmethod\n",
    "\n",
    "import matplotlib\n",
    "import matplotlib.pyplot as plt\n",
    "%matplotlib inline\n",
    "matplotlib.rcParams[\"image.interpolation\"] = \"none\"\n",
    "matplotlib.rcParams['figure.figsize'] = (12, 6)\n",
    "from tifffile import imread, imwrite\n",
    "from tqdm.auto import tqdm\n",
    "import skimage\n",
    "from skimage.segmentation import relabel_sequential\n",
    "import pandas as pd\n",
    "import scipy\n",
    "import numpy as np\n",
    "import napari\n",
    "import networkx as nx\n",
    "\n",
    "import motile\n",
    "from motile.plot import draw_track_graph, draw_solution\n",
    "\n",
    "# Pretty tqdm progress bars \n",
    "! jupyter nbextension enable --py widgetsnbextension"
   ]
  },
  {
   "cell_type": "markdown",
   "id": "d052dd77",
   "metadata": {
    "tags": []
   },
   "source": [
    "## Load the dataset and inspect it in napari"
   ]
  },
  {
   "cell_type": "markdown",
   "id": "f8ee299a-d31f-421b-8024-884bae72120b",
   "metadata": {},
   "source": [
    "For this exercise we will work with a small excerpt of the dataset from exercise 1. We already provide you with the detections this time, let's load them and take a look. "
   ]
  },
  {
   "cell_type": "code",
   "execution_count": null,
   "id": "07678fa9-0e52-4f24-9780-8082452838ec",
   "metadata": {
    "tags": []
   },
   "outputs": [],
   "source": [
    "base_path = Path(\"data/exercise2\")\n",
    "data = np.load(base_path / \"detected_renumbered.npz\", allow_pickle=True)\n",
    "img = data[\"img\"]\n",
    "labels = data[\"labels\"]\n",
    "links = pd.DataFrame(data[\"links\"], columns=[\"track_id\", \"from\", \"to\", \"parent_id\"])\n",
    "det = data[\"det\"]\n",
    "det_prob_maps = data[\"det_prob_maps\"]\n",
    "det_centers = data[\"det_centers\"][()] # det_centers is a dictionary\n",
    "det_center_probs = data[\"det_center_probs\"][()] # det_center_probs is a dictionary"
   ]
  },
  {
   "cell_type": "markdown",
   "id": "efeed6dd-e434-4bf0-ad9a-a7877c52a89e",
   "metadata": {},
   "source": [
    "According to the `links` table, there should be two cell divisions in this video: "
   ]
  },
  {
   "cell_type": "code",
   "execution_count": null,
   "id": "4bfe5771-4cc0-4f3e-a868-b23d809082bc",
   "metadata": {
    "tags": []
   },
   "outputs": [],
   "source": [
    "links"
   ]
  },
  {
   "cell_type": "markdown",
   "id": "eb57799f",
   "metadata": {
    "tags": []
   },
   "source": [
    "<div class=\"alert alert-block alert-danger\"><h3>Napari in a jupyter notebook:</h3>\n",
    "    \n",
    "- To have napari working in a jupyter notebook, you need to use up-to-date versions of napari, pyqt and pyqt5, as is the case in the conda environments provided together with this exercise.\n",
    "- When you are coding and debugging, close the napari viewer with `viewer.close()` to avoid problems with the two event loops of napari and jupyter.\n",
    "- **If a cell is not executed (empty square brackets on the left of a cell) despite you running it, running it a second time right after will usually work.**\n",
    "</div>"
   ]
  },
  {
   "cell_type": "markdown",
   "id": "4e479cdc-123a-4f69-8eee-3e9d17bb1997",
   "metadata": {},
   "source": [
    "Here's a little convenience function to visualize the ground truth tracks"
   ]
  },
  {
   "cell_type": "code",
   "execution_count": null,
   "id": "75346521",
   "metadata": {},
   "outputs": [],
   "source": [
    "def visualize_tracks(viewer, y, links=None, name=\"\"):\n",
    "    \"\"\"Utility function to visualize segmentation and tracks\"\"\"\n",
    "    max_label = max(links.max(), y.max()) if links is not None else y.max()\n",
    "    colorperm = np.random.default_rng(42).permutation(np.arange(1, max_label + 2))\n",
    "    tracks = []\n",
    "    for t, frame in enumerate(y):\n",
    "        centers = skimage.measure.regionprops(frame)\n",
    "        for c in centers:\n",
    "            tracks.append([colorperm[c.label], t, int(c.centroid[0]), int(c.centroid[1])])\n",
    "    tracks = np.array(tracks)\n",
    "    tracks = tracks[tracks[:, 0].argsort()]\n",
    "    \n",
    "    graph = {}\n",
    "    if links is not None:\n",
    "        divisions = links[links[:,3] != 0]\n",
    "        for d in divisions:\n",
    "            if colorperm[d[0]] not in tracks[:, 0] or colorperm[d[3]] not in tracks[:, 0]:\n",
    "                continue\n",
    "            graph[colorperm[d[0]]] = [colorperm[d[3]]]\n",
    "\n",
    "    viewer.add_labels(y, name=f\"{name}_detections\")\n",
    "    viewer.layers[f\"{name}_detections\"].contour = 3\n",
    "    viewer.add_tracks(tracks, name=f\"{name}_tracks\", graph=graph)\n",
    "    return tracks"
   ]
  },
  {
   "cell_type": "code",
   "execution_count": null,
   "id": "fa70f8c3",
   "metadata": {},
   "outputs": [],
   "source": [
    "viewer = napari.viewer.current_viewer()\n",
    "if viewer:\n",
    "    viewer.close()\n",
    "viewer = napari.Viewer()\n",
    "viewer.add_image(img)\n",
    "visualize_tracks(viewer, labels, links.to_numpy(), \"ground_truth\");\n",
    "viewer.add_labels(det, name=\"detections\");\n",
    "viewer.grid.enabled = True"
   ]
  },
  {
   "cell_type": "code",
   "execution_count": null,
   "id": "c8ca3a7f-d875-4c62-b920-1755ec6e04e0",
   "metadata": {
    "tags": []
   },
   "outputs": [],
   "source": [
    "viewer = napari.viewer.current_viewer()\n",
    "if viewer:\n",
    "    viewer.close()"
   ]
  },
  {
   "cell_type": "markdown",
   "id": "51d77db2",
   "metadata": {
    "tags": []
   },
   "source": [
    "## Build the ground truth graph, as well as a candidate graph from the detections"
   ]
  },
  {
   "cell_type": "markdown",
   "id": "7ebd9149-6426-41c1-a704-974de014d484",
   "metadata": {},
   "source": [
    "We will represent a linking problem as a [directed graph](https://en.wikipedia.org/wiki/Directed_graph) that contains all possible detections (graph nodes) and links (graph edges) between them. Then we remove certain nodes and edges using discrete optimization techniques such as an integer linear problem.\n",
    "\n",
    "First of all, we will build and inspect two graphs:\n",
    "- One for the ground truth data\n",
    "- A candidate graph built from the detected cells in the video"
   ]
  },
  {
   "cell_type": "code",
   "execution_count": null,
   "id": "a898b679-9032-4f9a-aaa5-79ac3e5e33ed",
   "metadata": {
    "tags": []
   },
   "outputs": [],
   "source": [
    "def build_gt_graph(labels, links=None):\n",
    "    \"\"\"TODO\"\"\"    \n",
    "    \n",
    "    print(\"Build ground truth graph\")\n",
    "    G = nx.DiGraph()\n",
    "    \n",
    "    luts = []\n",
    "    n_v = 0\n",
    "    # for t, d in tqdm(enumerate(labels), desc=\"add nodes\"):\n",
    "    for t, d in enumerate(labels):\n",
    "        lut = {}\n",
    "        regions = skimage.measure.regionprops(d)\n",
    "        for i, r in enumerate(regions):\n",
    "            draw_pos = int(d.shape[0] - r.centroid[0])\n",
    "            G.add_node(n_v, time=t, show=r.label, draw_position=draw_pos)\n",
    "            lut[r.label] = n_v\n",
    "            n_v += 1 \n",
    "        luts.append(lut)\n",
    "\n",
    "    n_e = 0\n",
    "    # for t, (d0, d1) in tqdm(enumerate(zip(labels, labels[1:])), desc=\"add edges\"):\n",
    "    for t, (d0, d1) in enumerate(zip(labels, labels[1:])):\n",
    "        r0 = skimage.measure.regionprops(d0)\n",
    "        c0 = [np.array(r.centroid) for r in r0]\n",
    "         \n",
    "        r1 = skimage.measure.regionprops(d1)\n",
    "        c1 = [np.array(r.centroid) for r in r1]\n",
    "\n",
    "        for _r0, _c0 in zip(r0, c0):\n",
    "            for _r1, _c1 in zip(r1, c1):\n",
    "                dist = np.linalg.norm(_c0 - _c1)\n",
    "                if _r0.label == _r1.label:\n",
    "                    G.add_edge(\n",
    "                        luts[t][_r0.label],\n",
    "                        luts[t+1][_r1.label],\n",
    "                        edge_id = n_e,\n",
    "                    )\n",
    "                    n_e += 1\n",
    "\n",
    "    if links is not None:\n",
    "        divisions = links[links[:,3] != 0]\n",
    "        for d in divisions:\n",
    "            if d[1] > 0 and d[1] < labels.shape[0]:\n",
    "                try:\n",
    "                    G.add_edge(\n",
    "                        luts[d[1] - 1][d[3]],\n",
    "                        luts[d[1]][d[0]],\n",
    "                        edge_id = n_e,\n",
    "                        show=\"DIV\",\n",
    "                    )\n",
    "                    n_e += 1\n",
    "                except KeyError:\n",
    "                    pass\n",
    "                    \n",
    "    G = motile.TrackGraph(G, frame_attribute=\"time\")\n",
    "    \n",
    "    return G\n",
    "\n",
    "def build_graph(detections, max_distance, detection_probs=None, drift=(0,0)):\n",
    "    \"\"\"TODO\n",
    "    \n",
    "    detection_probs: list of arrays, corresponding to ordered ids in detections.\"\"\"\n",
    "    \n",
    "    print(\"Build candidate graph\")\n",
    "    G = nx.DiGraph()\n",
    "    \n",
    "    # for t, d in tqdm(enumerate(detections), desc=\"add nodes\"):\n",
    "    for t, d in enumerate(detections):\n",
    "        regions = skimage.measure.regionprops(d)\n",
    "        for i, r in enumerate(regions):\n",
    "            draw_pos = int(d.shape[0] - r.centroid[0])\n",
    "            weight = np.round(detection_probs[r.label], decimals=2).item() if detection_probs is not None else 1\n",
    "            # TODO update motile plotting function to not require contiguous node ids starting from 0\n",
    "            G.add_node(r.label - 1, time=t, show=r.label, weight=weight, draw_position=draw_pos)\n",
    "\n",
    "    n_e = 0\n",
    "    # for t, (d0, d1) in tqdm(enumerate(zip(detections, detections[1:])), desc=\"add edges\"):\n",
    "    for t, (d0, d1) in enumerate(zip(detections, detections[1:])):\n",
    "        r0 = skimage.measure.regionprops(d0)\n",
    "        c0 = [np.array(r.centroid) for r in r0]\n",
    "         \n",
    "        r1 = skimage.measure.regionprops(d1)\n",
    "        c1 = [np.array(r.centroid) for r in r1]\n",
    "\n",
    "        for _r0, _c0 in zip(r0, c0):\n",
    "            for _r1, _c1 in zip(r1, c1):\n",
    "                dist = np.linalg.norm(_c0 + np.array(drift) - _c1)\n",
    "                if dist < max_distance:\n",
    "                    G.add_edge(\n",
    "                        # TODO update motile plotting function to not require contiguous node ids starting from 0\n",
    "                        _r0.label - 1,\n",
    "                        _r1.label - 1,\n",
    "                        # 1 - normalized euclidian distance\n",
    "                        weight=1 - np.round(np.linalg.norm(_c0 + np.array(drift) - _c1) / max_distance, decimals=3).item(),\n",
    "                        edge_id=n_e,\n",
    "                        # score=1,\n",
    "                        show=\"?\",\n",
    "                    )\n",
    "                    n_e += 1\n",
    "\n",
    "    G = motile.TrackGraph(G, frame_attribute=\"time\")\n",
    "    \n",
    "    return G"
   ]
  },
  {
   "cell_type": "code",
   "execution_count": null,
   "id": "8ef2cb14-4464-4d15-bb27-455929a95ad8",
   "metadata": {
    "tags": []
   },
   "outputs": [],
   "source": [
    "gt_graph = build_gt_graph(labels, links.to_numpy())\n",
    "candidate_graph = build_graph(det, max_distance=50, detection_probs=det_center_probs, drift=(-4 , 0))"
   ]
  },
  {
   "cell_type": "markdown",
   "id": "ce066eb7-f1ce-4d3d-b664-7794fb4320f9",
   "metadata": {},
   "source": [
    "Let's visualize the two graphs."
   ]
  },
  {
   "cell_type": "code",
   "execution_count": null,
   "id": "7bd61066-a812-47c3-b671-1ed2f9a4f2b2",
   "metadata": {
    "tags": []
   },
   "outputs": [],
   "source": [
    "fig_gt = draw_track_graph(\n",
    "    gt_graph,\n",
    "    position_attribute=\"draw_position\",\n",
    "    width=1000,\n",
    "    height=500,\n",
    "    label_attribute='show',\n",
    "    node_color=(0, 128, 0),\n",
    "    edge_color=(0, 128, 0),\n",
    ")\n",
    "fig_gt = fig_gt.update_layout(\n",
    "    title={\n",
    "        'text': \"Ground truth\",\n",
    "        'y':0.98,\n",
    "        'x':0.5,\n",
    "    }\n",
    ")\n",
    "fig_gt.show()"
   ]
  },
  {
   "cell_type": "markdown",
   "id": "e220f987-3cdb-4972-8183-5af9ab7523b7",
   "metadata": {},
   "source": [
    "You can hover over the nodes and edges of the candidate graph to inspect their features.\n",
    "\n",
    "The nodes' `weight` is set to their detection probability, and the edges' `weight` to 1 - normalized_detection_distance, which is also visualized as their color saturation."
   ]
  },
  {
   "cell_type": "code",
   "execution_count": null,
   "id": "c43d29de-7745-4a4e-b86e-e97539086d5c",
   "metadata": {
    "tags": []
   },
   "outputs": [],
   "source": [
    "fig_candidate = draw_track_graph(\n",
    "    candidate_graph,\n",
    "    position_attribute=\"draw_position\",\n",
    "    width=1000,\n",
    "    height=500,\n",
    "    label_attribute='show',\n",
    "    alpha_attribute='weight',\n",
    "    \n",
    ")\n",
    "fig_candidate = fig_candidate.update_layout(\n",
    "    title={\n",
    "        'text': \"Candidate graph\",\n",
    "        'y':0.98,\n",
    "        'x':0.5,\n",
    "    }\n",
    ")\n",
    "fig_candidate.show()"
   ]
  },
  {
   "cell_type": "markdown",
   "id": "5ae64ef2-9234-4d4a-babb-6b487050f58e",
   "metadata": {},
   "source": [
    "## Network flow"
   ]
  },
  {
   "cell_type": "markdown",
   "id": "f9d70ac0-f44e-458f-a770-0215fb12dd4c",
   "metadata": {},
   "source": [
    "As hinted earlier, our goal is to prune the candidate graph. More formally we want to find a graph $\\tilde{G}=(\\tilde{V}, \\tilde{E})$ whose vertices $\\tilde{V}$ are a subset of the candidate graph vertices $V$ and whose edges $\\tilde{E}$ are a subset of the candidate graph edges $E$.\n",
    "\n",
    "The first algorithm we will use to do this is a [network flow](https://en.wikipedia.org/wiki/Network_flow_problem). It tries to find as many disjunct paths from the first frame to the last frame as possible. All other vertices and edges are discarded. This specific algorithm is called maximum flow.\n",
    "\n",
    "\n",
    "Finding a good subgraph $\\tilde{G}=(\\tilde{V}, \\tilde{E})$ can be formulated as an [integer linear program (ILP)](https://en.wikipedia.org/wiki/Integer_programming) (also, refer to the tracking lecture slides), where we assign a binary variable $x$ and a cost $c$ to each vertex and edge in $G$, and then computing $min_x c^Tx$. A set of linear constraints ensure that the solution will be a feasible graph. For example, if an edge is part of $\\tilde{G}$, both its incident nodes have to be part of $\\tilde{G}$ as well.\n",
    "\n",
    "Here we want to express the network flow as an ILP using `motile` ([docs here](https://funkelab.github.io/motile/)), a convenient wrapper around solving linking with an ILP.\n",
    "\n",
    "We "
   ]
  },
  {
   "cell_type": "markdown",
   "id": "a18a401b-33a7-4f4f-b770-2d2faba8c2f3",
   "metadata": {
    "tags": []
   },
   "source": [
    "## Exercise 2.1 - Network flow\n",
    "<div class=\"alert alert-block alert-info\"><h3>Exercise 2.1: The network flow formulation below is flawed, please fix it. </h3>\n",
    "You can adapt/remove costs and constraints.\n",
    "</div>"
   ]
  },
  {
   "cell_type": "markdown",
   "id": "8974355e-e263-4848-ba00-26e2325b6a5d",
   "metadata": {},
   "source": [
    "Expected output:\n",
    "\n",
    "<img src=\"figures/network_flow.png\" width=\"700\"/>"
   ]
  },
  {
   "cell_type": "code",
   "execution_count": null,
   "id": "3a75f291-ef16-4caf-8b41-6f914972585d",
   "metadata": {
    "tags": []
   },
   "outputs": [],
   "source": [
    "def solve_network_flow(graph):\n",
    "    solver = motile.Solver(graph)\n",
    "    \n",
    "    # Add costs\n",
    "    solver.add_costs(\n",
    "        motile.costs.NodeSelection(\n",
    "            weight=1,  # Adapt this weight\n",
    "            attribute=\"weight\"))\n",
    "    solver.add_costs(\n",
    "        motile.costs.EdgeSelection(\n",
    "            weight=1,  # Adapt this weight\n",
    "            attribute=\"weight\"))\n",
    "    \n",
    "    # Add constraints\n",
    "    \n",
    "    ######################\n",
    "    ### YOUR CODE HERE ###\n",
    "    ######################\n",
    "    \n",
    "    solver.add_constraints(motile.constraints.MaxChildren(2))\n",
    "    \n",
    "    # Special contraints for network flow\n",
    "    solver.add_constraints(motile.constraints.InOutSymmetry())\n",
    "    solver.add_constraints(motile.constraints.MinTrackLength(1))\n",
    "    \n",
    "    solution = solver.solve()\n",
    "    \n",
    "    return solver"
   ]
  },
  {
   "cell_type": "code",
   "execution_count": null,
   "id": "2f19c98f-4d20-44ee-9e20-fe3212722684",
   "metadata": {
    "tags": [
     "solution"
    ]
   },
   "outputs": [],
   "source": [
    "# Solution\n",
    "\n",
    "def solve_network_flow(graph):\n",
    "    solver = motile.Solver(graph)\n",
    "    \n",
    "    # Add costs\n",
    "    solver.add_costs(\n",
    "        motile.costs.NodeSelection(\n",
    "            weight=-1,\n",
    "            attribute=\"weight\"))\n",
    "    solver.add_costs(\n",
    "        motile.costs.EdgeSelection(\n",
    "            weight=-1,\n",
    "            attribute=\"weight\"))\n",
    "    \n",
    "    # Add constraints\n",
    "    solver.add_constraints(motile.constraints.MaxParents(1))\n",
    "    solver.add_constraints(motile.constraints.MaxChildren(1))\n",
    "    solver.add_constraints(motile.constraints.InOutSymmetry())\n",
    "    solver.add_constraints(motile.constraints.MinTrackLength(1))\n",
    "    \n",
    "    solution = solver.solve()\n",
    "    \n",
    "    return solver"
   ]
  },
  {
   "cell_type": "markdown",
   "id": "1f00f3a6-f759-426f-bf62-cb7efcb3f732",
   "metadata": {},
   "source": [
    "A utility function to gauge some statistics of a solution"
   ]
  },
  {
   "cell_type": "code",
   "execution_count": null,
   "id": "fa8609fe-fecd-4e12-9b77-66e1b8715f55",
   "metadata": {
    "tags": []
   },
   "outputs": [],
   "source": [
    "def print_solution_stats(solver, graph, gt_graph):\n",
    "    time.sleep(0.1) # to wait for ilpy prints\n",
    "    print(f\"\\nCandidate graph\\t\\t{len(graph.nodes):3} nodes\\t{len(graph.edges):3} edges\")\n",
    "    print(f\"Ground truth graph\\t{len(gt_graph.nodes):3} nodes\\t{len(gt_graph.edges):3} edges\")\n",
    "    \n",
    "    node_selected = solver.get_variables(motile.variables.NodeSelected)\n",
    "    edge_selected = solver.get_variables(motile.variables.EdgeSelected)\n",
    "    nodes = 0\n",
    "    for node in candidate_graph.nodes:\n",
    "        if solver.solution[node_selected[node]] > 0.5:\n",
    "            nodes += 1\n",
    "    edges = 0\n",
    "    for u, v in candidate_graph.edges:\n",
    "        if solver.solution[edge_selected[(u, v)]] > 0.5:\n",
    "            edges += 1       \n",
    "    print(f\"Solution graph\\t\\t{nodes:3} nodes\\t{edges:3} edges\")"
   ]
  },
  {
   "cell_type": "code",
   "execution_count": null,
   "id": "ab1c2a88-c2e7-49e0-8eec-571aab16312b",
   "metadata": {
    "tags": []
   },
   "outputs": [],
   "source": [
    "flow = solve_network_flow(candidate_graph)\n",
    "print_solution_stats(flow, candidate_graph, gt_graph)"
   ]
  },
  {
   "cell_type": "code",
   "execution_count": null,
   "id": "1db048e8-d229-4a5f-88ae-d3099b81241c",
   "metadata": {
    "tags": []
   },
   "outputs": [],
   "source": [
    "fig_flow = draw_solution(\n",
    "    candidate_graph,\n",
    "    flow,\n",
    "    position_attribute=\"draw_position\",\n",
    "    width=1000,\n",
    "    height=500,\n",
    "    label_attribute=\"show\",\n",
    ")\n",
    "fig_flow = fig_flow.update_layout(\n",
    "    title={\n",
    "        'text': f\"Network flow (no divisions) - cost: {flow.solution.get_value()}\",\n",
    "        'y':0.98,\n",
    "        'x':0.5,\n",
    "    }\n",
    ")\n",
    "fig_flow.show()\n",
    "fig_gt.show()"
   ]
  },
  {
   "cell_type": "markdown",
   "id": "8292b7d7-803b-4110-ab39-2eaf70d66c73",
   "metadata": {},
   "source": [
    "### Recolor detections in napari according to solution and compare to ground truth"
   ]
  },
  {
   "cell_type": "code",
   "execution_count": null,
   "id": "be05385a-29cb-4c7b-a1be-6013a9fdb691",
   "metadata": {
    "tags": []
   },
   "outputs": [],
   "source": [
    "def solution2graph(solver, base_graph):\n",
    "    new_graph = nx.DiGraph()\n",
    "    node_indicators = solver.get_variables(motile.variables.NodeSelected)\n",
    "    edge_indicators = solver.get_variables(motile.variables.EdgeSelected)    \n",
    "    \n",
    "    # Build nodes\n",
    "    for node, index in node_indicators.items():\n",
    "        if solver.solution[index] > 0.5:\n",
    "            node_features = base_graph.nodes[node]\n",
    "            new_graph.add_node(node, **node_features)\n",
    "    \n",
    "    # Build edges\n",
    "    for edge, index in edge_indicators.items():\n",
    "        if solver.solution[index] > 0.5:\n",
    "            # print(base_graph.edges[edge])\n",
    "            new_graph.add_edge(*edge, **base_graph.edges[edge])\n",
    "    \n",
    "    track_graph = motile.TrackGraph(new_graph, frame_attribute=\"time\")\n",
    "    \n",
    "    return track_graph"
   ]
  },
  {
   "cell_type": "code",
   "execution_count": null,
   "id": "677cc600",
   "metadata": {},
   "outputs": [],
   "source": [
    "def recolor_segmentation(segmentation, graph, det_attribute=\"show\"):\n",
    "    \"\"\"TODO\"\"\"    \n",
    "    out = []\n",
    "    n_tracks = 1\n",
    "    color_lookup_tables = []\n",
    "    \n",
    "    for t in range(0, len(segmentation)):\n",
    "        new_frame = np.zeros_like(segmentation[t])\n",
    "        color_lut = {}\n",
    "        for node_id in graph.nodes_by_frame(t):\n",
    "            det_id = graph.nodes[node_id][det_attribute]\n",
    "            if node_id not in graph.nodes:\n",
    "                continue\n",
    "            \n",
    "            in_edges = []\n",
    "            for (u,v) in graph.edges:\n",
    "                if v == node_id:\n",
    "                    in_edges.append((u, v))\n",
    "            if not in_edges:\n",
    "                new_frame[segmentation[t] == det_id] = n_tracks\n",
    "                color_lut[det_id] = n_tracks\n",
    "                n_tracks += 1\n",
    "            else:\n",
    "                for v_tm1, u_t0 in in_edges:\n",
    "                    new_frame[segmentation[t] == graph.nodes[u_t0][det_attribute]] = color_lookup_tables[t-1][graph.nodes[v_tm1][det_attribute]]\n",
    "                    color_lut[graph.nodes[u_t0][det_attribute]] = color_lookup_tables[t-1][graph.nodes[v_tm1][det_attribute]]\n",
    "                \n",
    "        color_lookup_tables.append(color_lut)\n",
    "        out.append(new_frame)\n",
    "        \n",
    "\n",
    "    return np.stack(out)"
   ]
  },
  {
   "cell_type": "code",
   "execution_count": null,
   "id": "adabad0a-6f48-4043-b7b7-f1c194c1c3c5",
   "metadata": {},
   "outputs": [],
   "source": [
    "recolored_gt = recolor_segmentation(labels, gt_graph)\n",
    "det_flow = recolor_segmentation(det, graph=solution2graph(flow, candidate_graph))\n",
    "\n",
    "viewer = napari.viewer.current_viewer()\n",
    "if viewer:\n",
    "    viewer.close()\n",
    "viewer = napari.Viewer()\n",
    "viewer.add_image(img)\n",
    "viewer.add_labels(recolored_gt)\n",
    "viewer.add_labels(det_flow)\n",
    "viewer.grid.enabled = True"
   ]
  },
  {
   "cell_type": "code",
   "execution_count": null,
   "id": "62556c22-2fb4-4718-a1c0-c6f2eca8bca4",
   "metadata": {
    "tags": []
   },
   "outputs": [],
   "source": [
    "viewer = napari.viewer.current_viewer()\n",
    "if viewer:\n",
    "    viewer.close()"
   ]
  },
  {
   "cell_type": "markdown",
   "id": "86363039-ace7-49cb-83da-8988af221989",
   "metadata": {},
   "source": [
    "## Checkpoint 1\n",
    "<div class=\"alert alert-block alert-success\"><h3>Checkpoint 1: We have familiarized ourselves with the formulation of linking as a graph-based optimization and have a feasible solution to a network flow.</h3></div>"
   ]
  },
  {
   "cell_type": "markdown",
   "id": "a1abcf8e",
   "metadata": {
    "tags": []
   },
   "source": [
    "## Exercise 2.2 - ILP with track birth and death\n",
    "<div class=\"alert alert-block alert-info\"><h3>Exercise 2.2: Adapt the network flow from Exercise 2.1 such that tracks can start and end at arbitrary time points</h3>\n",
    "\n",
    "Hint: you will have to remove some constraints.\n",
    "</div>"
   ]
  },
  {
   "cell_type": "markdown",
   "id": "d62e83bc-e32b-4655-b6b4-4c377317e3cd",
   "metadata": {},
   "source": [
    "Expected output:\n",
    "\n",
    "<img src=\"figures/ilp_nodiv.png\" width=\"700\"/>"
   ]
  },
  {
   "cell_type": "code",
   "execution_count": null,
   "id": "72bc2065-19b6-4b63-9abc-2f1f0d999ba0",
   "metadata": {
    "tags": []
   },
   "outputs": [],
   "source": [
    "def solve_ilp_birth(graph):\n",
    "    solver = motile.Solver(graph)\n",
    "    \n",
    "    # Add costs\n",
    "    # Docs: https://funkelab.github.io/motile/api.html#costs\n",
    "    ######################\n",
    "    ### YOUR CODE HERE ###\n",
    "    ######################\n",
    "        \n",
    "    # Add constraints\n",
    "    # Docs: https://funkelab.github.io/motile/api.html#constraints\n",
    "    ######################\n",
    "    ### YOUR CODE HERE ###\n",
    "    ######################\n",
    "    solver.add_constraints(motile.constraints.MaxChildren(1))\n",
    "    \n",
    "    solution = solver.solve()\n",
    "    \n",
    "    return solver"
   ]
  },
  {
   "cell_type": "code",
   "execution_count": null,
   "id": "4b8238f3-3926-4c73-bba8-d3180acea9ae",
   "metadata": {
    "tags": [
     "solution"
    ]
   },
   "outputs": [],
   "source": [
    "#Solution\n",
    "\n",
    "def solve_ilp_birth(graph):\n",
    "    solver = motile.Solver(graph)\n",
    "    \n",
    "    # Add costs\n",
    "    solver.add_costs(\n",
    "        motile.costs.NodeSelection(\n",
    "            weight=-1,\n",
    "            attribute=\"weight\",\n",
    "        ))\n",
    "    solver.add_costs(\n",
    "        motile.costs.EdgeSelection(\n",
    "            weight=-1,\n",
    "            attribute=\"weight\",\n",
    "        ))\n",
    "    \n",
    "    # Add constraints\n",
    "    solver.add_constraints(motile.constraints.MaxParents(1))\n",
    "    solver.add_constraints(motile.constraints.MaxChildren(1))\n",
    "    \n",
    "    solution = solver.solve()\n",
    "    \n",
    "    return solver"
   ]
  },
  {
   "cell_type": "code",
   "execution_count": null,
   "id": "f605a2df-4e06-4cc5-bbac-0056ebff5359",
   "metadata": {
    "tags": []
   },
   "outputs": [],
   "source": [
    "with_birth = solve_ilp_birth(candidate_graph)\n",
    "print_solution_stats(with_birth, candidate_graph, gt_graph)"
   ]
  },
  {
   "cell_type": "code",
   "execution_count": null,
   "id": "40ab8d42-0108-44de-976b-1e458fcba803",
   "metadata": {
    "tags": []
   },
   "outputs": [],
   "source": [
    "fig_birth = draw_solution(\n",
    "    candidate_graph,\n",
    "    with_birth,\n",
    "    position_attribute=\"draw_position\",\n",
    "    width=1000,\n",
    "    height=500,\n",
    "    label_attribute=\"show\",\n",
    ")\n",
    "fig_birth = fig_birth.update_layout(\n",
    "    title={\n",
    "        'text': f\"ILP formulation (no divisions) - cost: {with_birth.solution.get_value()}\",\n",
    "        'y':0.98,\n",
    "        'x':0.5,\n",
    "    }\n",
    ")\n",
    "fig_birth.show()\n",
    "fig_gt.show()"
   ]
  },
  {
   "cell_type": "code",
   "execution_count": null,
   "id": "57e94efa-c5c8-4ad5-bde8-79b3d5f566fd",
   "metadata": {
    "tags": []
   },
   "outputs": [],
   "source": [
    "recolored_gt = recolor_segmentation(labels, gt_graph)\n",
    "det_birth = recolor_segmentation(det, graph=solution2graph(with_birth, candidate_graph))\n",
    "\n",
    "viewer = napari.viewer.current_viewer()\n",
    "if viewer:\n",
    "    viewer.close()\n",
    "viewer = napari.Viewer()\n",
    "viewer.add_image(img)\n",
    "viewer.add_labels(recolored_gt)\n",
    "viewer.add_labels(det_birth)\n",
    "viewer.grid.enabled = True"
   ]
  },
  {
   "cell_type": "code",
   "execution_count": null,
   "id": "50b64402-f265-46ed-9e6a-efb2e984431b",
   "metadata": {
    "tags": []
   },
   "outputs": [],
   "source": [
    "viewer = napari.viewer.current_viewer()\n",
    "if viewer:\n",
    "    viewer.close()"
   ]
  },
  {
   "cell_type": "markdown",
   "id": "b0aa30a7-51ba-42cc-811b-d031ddaece36",
   "metadata": {
    "jp-MarkdownHeadingCollapsed": true,
    "tags": []
   },
   "source": [
    "## ILP model including divisions"
   ]
  },
  {
   "cell_type": "markdown",
   "id": "605092c9",
   "metadata": {
    "tags": []
   },
   "source": [
    "## Exercise 2.3\n",
    "<div class=\"alert alert-block alert-info\"><h3>Exercise 2.3: Adapt the ILP formulation to include divisions.</h3>\n",
    "</div>\n",
    "\n",
    "Specifically, adapt one constraint and add costs for `Appear` and `Split` events, refer to [docs](https://funkelab.github.io/motile/api.html#costs)"
   ]
  },
  {
   "cell_type": "markdown",
   "id": "4c00ebd9-47c2-4aed-90c9-02155021c969",
   "metadata": {},
   "source": [
    "Expected output: Capture at least one division.\n",
    "\n",
    "<img src=\"figures/ilp_div.png\" width=\"300\"/>"
   ]
  },
  {
   "cell_type": "code",
   "execution_count": null,
   "id": "c013dfea-6df3-4e03-beef-f51ecc77b6f3",
   "metadata": {
    "tags": []
   },
   "outputs": [],
   "source": [
    "def solve_full_ilp(graph):\n",
    "    solver = motile.Solver(graph)\n",
    "    \n",
    "    # Add costs\n",
    "    solver.add_costs(\n",
    "        motile.costs.NodeSelection(\n",
    "            weight=-1,\n",
    "            attribute=\"weight\"))\n",
    "    solver.add_costs(\n",
    "        motile.costs.EdgeSelection(\n",
    "            weight=-1,\n",
    "            attribute=\"weight\"))\n",
    "    \n",
    "    ######################\n",
    "    ### YOUR CODE HERE ###\n",
    "    ######################\n",
    "    \n",
    "    # Add constraints\n",
    "    solver.add_constraints(motile.constraints.MaxParents(1))\n",
    "    solver.add_constraints(motile.constraints.MaxChildren(1))\n",
    "    \n",
    "    solution = solver.solve()    \n",
    "    \n",
    "    return solver"
   ]
  },
  {
   "cell_type": "code",
   "execution_count": null,
   "id": "7e7b3f05-802c-43bf-ad83-04bae09facac",
   "metadata": {
    "tags": [
     "solution"
    ]
   },
   "outputs": [],
   "source": [
    "# Solution\n",
    "\n",
    "def solve_full_ilp(graph):\n",
    "    solver = motile.Solver(graph)\n",
    "    \n",
    "    # Add costs\n",
    "    solver.add_costs(\n",
    "        motile.costs.NodeSelection(\n",
    "            weight=-1,\n",
    "            attribute=\"weight\"))\n",
    "    solver.add_costs(\n",
    "        motile.costs.EdgeSelection(\n",
    "            weight=-1,\n",
    "            attribute=\"weight\"))\n",
    "    solver.add_costs(motile.costs.Appear(constant=0.75))    \n",
    "    solver.add_costs(motile.costs.Split(constant=1.5))\n",
    "    \n",
    "    # Add constraints\n",
    "    solver.add_constraints(motile.constraints.MaxParents(1))\n",
    "    solver.add_constraints(motile.constraints.MaxChildren(2))\n",
    "    \n",
    "    solution = solver.solve()    \n",
    "    \n",
    "    return solver"
   ]
  },
  {
   "cell_type": "code",
   "execution_count": null,
   "id": "b824a0d9",
   "metadata": {},
   "outputs": [],
   "source": [
    "full_ilp = solve_full_ilp(candidate_graph)\n",
    "print_solution_stats(full_ilp, candidate_graph, gt_graph)"
   ]
  },
  {
   "cell_type": "code",
   "execution_count": null,
   "id": "46939612-acae-45fa-9aee-460dc35a7679",
   "metadata": {
    "tags": []
   },
   "outputs": [],
   "source": [
    "fig_ilp = draw_solution(\n",
    "    candidate_graph,\n",
    "    full_ilp,\n",
    "    position_attribute=\"draw_position\",\n",
    "    width=1000,\n",
    "    height=500,\n",
    "    label_attribute=\"show\",\n",
    ")\n",
    "fig_ilp = fig_ilp.update_layout(\n",
    "    title={\n",
    "        'text': f\"ILP formulation with divisions - cost: {full_ilp.solution.get_value()}\",\n",
    "        'y':0.98,\n",
    "        'x':0.5,\n",
    "    }\n",
    ")\n",
    "fig_ilp.show()\n",
    "fig_gt.show()"
   ]
  },
  {
   "cell_type": "code",
   "execution_count": null,
   "id": "2c50187a-7f2f-4f56-9295-3f59b6ba895c",
   "metadata": {
    "tags": []
   },
   "outputs": [],
   "source": [
    "recolored_gt = recolor_segmentation(labels, gt_graph)\n",
    "det_ilp = recolor_segmentation(det, graph=solution2graph(full_ilp, candidate_graph))\n",
    "\n",
    "viewer = napari.viewer.current_viewer()\n",
    "if viewer:\n",
    "    viewer.close()\n",
    "viewer = napari.Viewer()\n",
    "viewer.add_image(img)\n",
    "viewer.add_labels(recolored_gt)\n",
    "viewer.add_labels(det_ilp)\n",
    "viewer.grid.enabled = True"
   ]
  },
  {
   "cell_type": "code",
   "execution_count": null,
   "id": "8df65faf",
   "metadata": {},
   "outputs": [],
   "source": [
    "viewer = napari.viewer.current_viewer()\n",
    "if viewer:\n",
    "    viewer.close()"
   ]
  },
  {
   "cell_type": "markdown",
   "id": "2e0b8845-c128-447c-8cd7-46aa4ab113f5",
   "metadata": {
    "tags": []
   },
   "source": [
    "## Exercise 2.4 (Bonus)\n",
    "<div class=\"alert alert-block alert-info\"><h3>Exercise 2.4: Try to improve the ILP-based tracking from exercise 2.3</h3>\n",
    "\n",
    "For example\n",
    "- Tune the hyperparameters.\n",
    "- Better edge features than drift-corrected euclidian distance.\n",
    "- Tune the detection algorithm to avoid false negatives.\n",
    "    \n",
    "</div>"
   ]
  },
  {
   "cell_type": "code",
   "execution_count": null,
   "id": "fe88404e-126a-45cb-9188-1263c6014185",
   "metadata": {},
   "outputs": [],
   "source": []
  }
 ],
 "metadata": {
  "jupytext": {
   "formats": "py:percent,ipynb"
  },
  "kernelspec": {
   "display_name": "Python 3 (ipykernel)",
   "language": "python",
   "name": "python3"
  },
  "language_info": {
   "codemirror_mode": {
    "name": "ipython",
    "version": 3
   },
   "file_extension": ".py",
   "mimetype": "text/x-python",
   "name": "python",
   "nbconvert_exporter": "python",
   "pygments_lexer": "ipython3",
   "version": "3.9.16"
  }
 },
 "nbformat": 4,
 "nbformat_minor": 5
}
