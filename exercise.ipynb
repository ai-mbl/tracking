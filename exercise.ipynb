{
 "cells": [
  {
   "cell_type": "markdown",
   "id": "6d81c752",
   "metadata": {},
   "source": [
    "# Exercise 9: Tracking-by-detection with an integer linear program (ILP)\n",
    "\n",
    "Objective:\n",
    "- Write a pipeline that takes in cell detections and links them across time to obtain lineage trees\n",
    "\n",
    "Methods/Tools:\n",
    "\n",
    "- **`networkx`**: To represent the tracking inputs and outputs as graphs. Tracking is often framed\n",
    "    as a graph optimization problem. Nodes in the graph represent detections, and edges represent links\n",
    "    across time. The \"tracking\" task is then framed as selecting the correct edges to link your detections.\n",
    "- **`motile`**: To set up and solve an Integer Lineage Program (ILP) for tracking.\n",
    "    ILP-based methods frame tracking as a constrained optimization problem. The task is to select a subset of nodes/edges from a \"candidate graph\" of all possible nodes/edges. The subset must minimize user-defined costs (e.g. edge distance), while also satisfying a set of tracking constraints (e.g. each cell is linked to at most one cell in the previous frame). Note: this tracking approach is not inherently using\n",
    "    \"deep learning\" - the costs and constraints are usually hand-crafted to encode biological and data-based priors, although cost features can also be learned from data.\n",
    "- **`napari`**: To visualize tracking inputs and outputs. Qualitative analysis is crucial for tuning the \n",
    "    weights of the objective function and identifying data-specific costs and constraints.\n",
    "- **`traccuracy`**: To evaluate tracking results. Metrics such as accuracy can be misleading for tracking,\n",
    "    because rare events such as divisions are much harder than the common linking tasks, and might\n",
    "    be more biologically relevant for downstream analysis. Therefore, it is important to evaluate on\n",
    "    a wide range of error metrics and determine which are most important for your use case.\n",
    "\n",
    "After running through the full tracking pipeline, from loading to evaluation, we will learn how to **incorporate custom costs** based on dataset-specific prior information. As a bonus exercise, \n",
    "you can learn how to **learn the best cost weights** for a task from\n",
    "from a small amount of ground truth tracking information.\n",
    "\n",
    "You can run this notebook on your laptop, a GPU is not needed.\n",
    "\n",
    "<div class=\"alert alert-danger\">\n",
    "Set your python kernel to <code>09-tracking</code>\n",
    "</div>\n",
    "\n",
    "Places where you are expected to write code are marked with\n",
    "```\n",
    "### YOUR CODE HERE ###\n",
    "```\n",
    "\n",
    "This notebook was originally written by Benjamin Gallusser, and was edited for 2024 by Caroline Malin-Mayor."
   ]
  },
  {
   "cell_type": "markdown",
   "id": "185a0314",
   "metadata": {},
   "source": [
    "## Import packages"
   ]
  },
  {
   "cell_type": "code",
   "execution_count": null,
   "id": "1b062ab0",
   "metadata": {},
   "outputs": [],
   "source": [
    "%load_ext autoreload\n",
    "%autoreload 2\n",
    "# TODO: remove"
   ]
  },
  {
   "cell_type": "code",
   "execution_count": null,
   "id": "f3028a67",
   "metadata": {},
   "outputs": [],
   "source": [
    "import time\n",
    "from pathlib import Path\n",
    "\n",
    "import skimage\n",
    "import numpy as np\n",
    "import napari\n",
    "import networkx as nx\n",
    "import plotly.io as pio\n",
    "import scipy\n",
    "\n",
    "pio.renderers.default = \"vscode\"\n",
    "\n",
    "import motile\n",
    "from motile.plot import draw_track_graph, draw_solution\n",
    "from utils import InOutSymmetry, MinTrackLength\n",
    "\n",
    "import traccuracy\n",
    "from traccuracy import run_metrics\n",
    "from traccuracy.metrics import CTCMetrics, DivisionMetrics\n",
    "from traccuracy.matchers import CTCMatcher\n",
    "import zarr\n",
    "from motile_toolbox.visualization import to_napari_tracks_layer\n",
    "from napari.layers import Tracks\n",
    "from csv import DictReader\n",
    "import pandas as pd\n",
    "\n",
    "from tqdm.auto import tqdm\n",
    "\n",
    "from typing import Iterable, Any"
   ]
  },
  {
   "cell_type": "markdown",
   "id": "3bd8feb1",
   "metadata": {},
   "source": [
    "## Load the dataset and inspect it in napari"
   ]
  },
  {
   "cell_type": "markdown",
   "id": "b9cf8a88",
   "metadata": {},
   "source": [
    "For this exercise we will be working with a fluorescence microscopy time-lapse of breast cancer cells with stained nuclei (SiR-DNA). It is similar to the dataset at https://zenodo.org/record/4034976#.YwZRCJPP1qt. The raw data, pre-computed segmentations, and detection probabilities are saved in a zarr, and the ground truth tracks are saved in a csv. The segmentation was generated with a pre-trained StartDist model, so there may be some segmentation errors which can affect the tracking process. The detection probabilities also come from StarDist, and are downsampled in x and y by 2 compared to the detections and raw data."
   ]
  },
  {
   "cell_type": "markdown",
   "id": "3b32ab3a",
   "metadata": {},
   "source": [
    "Here we load the raw image data, segmentation, and probabilities from the zarr, and view them in napari."
   ]
  },
  {
   "cell_type": "code",
   "execution_count": null,
   "id": "9cd5da77",
   "metadata": {},
   "outputs": [],
   "source": [
    "data_path = \"data/breast_cancer_fluo.zarr\"\n",
    "data_root = zarr.open(data_path, 'r')\n",
    "image_data = data_root[\"raw\"][:]\n",
    "segmentation = data_root[\"seg_relabeled\"][:]\n",
    "probabilities = data_root[\"probs\"][:]"
   ]
  },
  {
   "cell_type": "markdown",
   "id": "30e9770c",
   "metadata": {},
   "source": [
    "Let's use [napari](https://napari.org/tutorials/fundamentals/getting_started.html) to visualize the data. Napari is a wonderful viewer for imaging data that you can interact with in python, even directly out of jupyter notebooks. If you've never used napari, you might want to take a few minutes to go through [this tutorial](https://napari.org/stable/tutorials/fundamentals/viewer.html)."
   ]
  },
  {
   "cell_type": "code",
   "execution_count": null,
   "id": "676d3ef0",
   "metadata": {},
   "outputs": [],
   "source": [
    "viewer = napari.Viewer()\n",
    "viewer.add_image(image_data, name=\"raw\")\n",
    "viewer.add_labels(segmentation, name=\"seg\")\n",
    "viewer.add_image(probabilities, name=\"probs\", scale=(1, 2, 2))"
   ]
  },
  {
   "cell_type": "markdown",
   "id": "1ff72826",
   "metadata": {},
   "source": [
    "## Task 1: Read in the ground truth graph\n",
    "\n",
    "In addition to the image data and segmentations, we also have a ground truth tracking solution.\n",
    "The ground truth tracks are stored in a CSV with five columns: id, time, x, y, and parent_id.\n",
    "\n",
    "Each row in the CSV represents a detection at location (time, x, y) with the given id.\n",
    "If the parent_id is not -1, it represents the id of the parent detection in the previous time frame.\n",
    "For cell tracking, tracks can usually be stored in this format, because there is no merging.\n",
    "With merging, a more complicated data struture would be needed.\n",
    "\n",
    "Note that there are no ground truth segmentations - each detection is just a point representing the center of a cell.\n"
   ]
  },
  {
   "cell_type": "markdown",
   "id": "f19d0b60",
   "metadata": {},
   "source": [
    "\n",
    "<div class=\"alert alert-block alert-info\"><h3>Task 1: Read in the ground truth graph</h3>\n",
    "\n",
    "For this task, you will read in the csv and store the tracks as a <a href=https://en.wikipedia.org/wiki/Directed_graph>directed graph</a> using the `networkx` library. Take a look at the documentation for the networkx DiGraph <a href=https://networkx.org/documentation/stable/reference/classes/digraph.html>here</a> to learn how to create a graph, add nodes and edges with attributes, and access those nodes and edges.\n",
    "\n",
    "Here are the requirements for the graph:\n",
    "<ol>\n",
    "    <li>Each row in the CSV becomes a node in the graph</li>\n",
    "    <li>The node id is an integer specified by the \"id\" column in the csv</li>\n",
    "    <li>Each node has an integer \"time\" attribute specified by the \"time\" column in the csv</li>\n",
    "    <li>Each node has a list[float] \"pos\" attribute containing the [\"x\", \"y\"] values from the csv</li>\n",
    "    <li>If the parent_id is not -1, then there is an edge in the graph from \"parent_id\" to \"id\"</li>\n",
    "</ol>\n",
    "\n",
    "You can read the CSV using basic python file io, csv.DictReader, pandas, or any other tool you are comfortable with. If not using pandas, remember to cast your read in values from strings to integers or floats.\n",
    "</div>\n"
   ]
  },
  {
   "cell_type": "code",
   "execution_count": null,
   "id": "c797d12d",
   "metadata": {
    "tags": [
     "task"
    ]
   },
   "outputs": [],
   "source": [
    "def read_gt_tracks():\n",
    "    gt_tracks = nx.DiGraph()\n",
    "    ### YOUR CODE HERE ###\n",
    "    return gt_tracks\n",
    "\n",
    "gt_tracks = read_gt_tracks()"
   ]
  },
  {
   "cell_type": "code",
   "execution_count": null,
   "id": "e3e500d4",
   "metadata": {},
   "outputs": [],
   "source": [
    "# run this cell to test your implementation\n",
    "assert gt_tracks.number_of_nodes() == 5490, f\"Found {gt_tracks.number_of_nodes()} nodes, expected 5490\"\n",
    "assert gt_tracks.number_of_edges() == 5120, f\"Found {gt_tracks.number_of_edges()} edges, expected 5120\"\n",
    "for node, data in gt_tracks.nodes(data=True):\n",
    "    assert type(node) == int, f\"Node id {node} has type {type(node)}, expected 'int'\"\n",
    "    assert \"time\" in data, f\"'time' attribute missing for node {node}\"\n",
    "    assert type(data[\"time\"]) == int, f\"'time' attribute has type {type(data['time'])}, expected 'int'\"\n",
    "    assert \"pos\" in data, f\"'pos' attribute missing for node {node}\"\n",
    "    assert type(data[\"pos\"]) == list, f\"'pos' attribute has type {type(data['pos'])}, expected 'list'\"\n",
    "    assert len(data[\"pos\"]) == 2, f\"'pos' attribute has length {len(data['pos'])}, expected 2\"\n",
    "    assert type(data[\"pos\"][0]) == float, f\"'pos' attribute element 0 has type {type(data['pos'][0])}, expected 'float'\"\n",
    "print(\"Your graph passed all the tests!\")"
   ]
  },
  {
   "cell_type": "markdown",
   "id": "7cbf129d",
   "metadata": {},
   "source": [
    "We can also use the helper function `to_napari_tracks_layer` to visualize the ground truth tracks in our napari viewer."
   ]
  },
  {
   "cell_type": "code",
   "execution_count": null,
   "id": "10c3f809",
   "metadata": {},
   "outputs": [],
   "source": [
    "tracks_layer = to_napari_tracks_layer(\n",
    "    gt_tracks, frame_key=\"time\", location_key=\"pos\", name=\"gt_tracks\"\n",
    ")\n",
    "viewer.add_layer(tracks_layer)"
   ]
  },
  {
   "cell_type": "markdown",
   "id": "6ca2f444",
   "metadata": {
    "lines_to_next_cell": 2
   },
   "source": [
    "## Build a candidate graph from the detections\n",
    "\n",
    "To set up our tracking problem, we will create a \"candidate graph\" - a DiGraph that contains all possible detections (graph nodes) and links (graph edges) between them.\n",
    "\n",
    "Then we use an optimization method called an integer linear program (ILP) to select the best nodes and edges from the candidate graph to generate our final tracks.\n",
    "\n",
    "To create our candidate graph, we will use the provided StarDist segmentations.\n",
    "Each node in the candidate graph represents one segmentation, and each edge represents a potential link between segmentations. This candidate graph will also contain features that will be used in the optimization task, such as position on nodes and, later, customized scores on edges."
   ]
  },
  {
   "cell_type": "markdown",
   "id": "5e49bcea",
   "metadata": {},
   "source": [
    "## Task 2: Extract candidate nodes from the predicted segmentations\n",
    "\n",
    "First we need to turn each segmentation into a node in a `networkx.DiGraph`. \n",
    "\n",
    "<div class=\"alert alert-block alert-info\"><h3>Task 2: Extract candidate nodes from the predicted segmentations</h3>\n",
    "Use <a href=https://scikit-image.org/docs/stable/api/skimage.measure.html#skimage.measure.regionprops>skimage.measure.regionprops</a> to extract properties from each segmentation, and create a candidate graph with nodes only.\n",
    "\n",
    "\n",
    "Here are the requirements for the output graph:\n",
    "<ol>\n",
    "    <li>Each detection (unique label id) in the segmentation becomes a node in the graph</li>\n",
    "    <li>The node id is the label of the detection</li>\n",
    "    <li>Each node has an integer \"time\" attribute, based on the index into the first dimension of the input segmentation array</li>\n",
    "    <li>Each node has a list[float] \"pos\" attribute containing the [\"x\", \"y\"] values from the centroid of the detection region</li>\n",
    "    <li>The graph has no edges (yet!)</li>\n",
    "</ol>\n",
    "</div>"
   ]
  },
  {
   "cell_type": "code",
   "execution_count": null,
   "id": "3f0c83fc",
   "metadata": {
    "tags": [
     "task"
    ]
   },
   "outputs": [],
   "source": [
    "def nodes_from_segmentation(segmentation: np.ndarray) -> nx.DiGraph:\n",
    "    \"\"\"Extract candidate nodes from a segmentation. \n",
    "\n",
    "    Args:\n",
    "        segmentation (np.ndarray): A numpy array with integer labels and dimensions\n",
    "            (t, y, x).\n",
    "\n",
    "    Returns:\n",
    "        nx.DiGraph: A candidate graph with only nodes.\n",
    "    \"\"\"\n",
    "    cand_graph = nx.DiGraph()\n",
    "    print(\"Extracting nodes from segmentation\")\n",
    "    for t in tqdm(range(len(segmentation))):\n",
    "        seg_frame = segmentation[t]\n",
    "        props = skimage.measure.regionprops(segs)\n",
    "        for regionprop in props:\n",
    "            ### YOUR CODE HERE ###\n",
    "        \n",
    "    return cand_graph\n",
    "\n",
    "cand_graph = nodes_from_segmentation(segmentation)"
   ]
  },
  {
   "cell_type": "code",
   "execution_count": null,
   "id": "6cec7f09",
   "metadata": {},
   "outputs": [],
   "source": [
    "# run this cell to test your implementation of the candidate graph\n",
    "assert cand_graph.number_of_nodes() == 6123, f\"Found {cand_graph.number_of_nodes()} nodes, expected 6123\"\n",
    "assert cand_graph.number_of_edges() == 0, f\"Found {cand_graph.number_of_edges()} edges, expected 0\"\n",
    "for node, data in cand_graph.nodes(data=True):\n",
    "    assert type(node) == int, f\"Node id {node} has type {type(node)}, expected 'int'\"\n",
    "    assert \"time\" in data, f\"'time' attribute missing for node {node}\"\n",
    "    assert type(data[\"time\"]) == int, f\"'time' attribute has type {type(data['time'])}, expected 'int'\"\n",
    "    assert \"pos\" in data, f\"'pos' attribute missing for node {node}\"\n",
    "    assert type(data[\"pos\"]) == list, f\"'pos' attribute has type {type(data['pos'])}, expected 'list'\"\n",
    "    assert len(data[\"pos\"]) == 2, f\"'pos' attribute has length {len(data['pos'])}, expected 2\"\n",
    "    assert type(data[\"pos\"][0]) in [float, np.float64], f\"'pos' attribute element 0 has type {type(data['pos'][0])}, expected 'float' or 'np.float64\"\n",
    "print(\"Your candidate graph passed all the tests!\")"
   ]
  },
  {
   "cell_type": "markdown",
   "id": "eb1050d3",
   "metadata": {},
   "source": [
    "After extracting the nodes, we need to add candidate edges. The function below adds candidate edges to a nodes-only graph by connecting all nodes in adjacent frames that are closer than a given max_edge_distance.\n",
    "\n",
    "Note: At the bottom of the cell, we add edges to our candidate graph with max_edge_distance=50. This is the maximum number of pixels that a cell centroid will be able to move between frames. If you want longer edges to be possible, you can increase this distance, but solving may take longer."
   ]
  },
  {
   "cell_type": "code",
   "execution_count": null,
   "id": "698255f4",
   "metadata": {},
   "outputs": [],
   "source": [
    "def _compute_node_frame_dict(cand_graph: nx.DiGraph) -> dict[int, list[Any]]:\n",
    "    \"\"\"Compute dictionary from time frames to node ids for candidate graph.\n",
    "\n",
    "    Args:\n",
    "        cand_graph (nx.DiGraph): A networkx graph\n",
    "\n",
    "    Returns:\n",
    "        dict[int, list[Any]]: A mapping from time frames to lists of node ids.\n",
    "    \"\"\"\n",
    "    node_frame_dict: dict[int, list[Any]] = {}\n",
    "    for node, data in cand_graph.nodes(data=True):\n",
    "        t = data[\"time\"]\n",
    "        if t not in node_frame_dict:\n",
    "            node_frame_dict[t] = []\n",
    "        node_frame_dict[t].append(node)\n",
    "    return node_frame_dict\n",
    "\n",
    "def create_kdtree(cand_graph: nx.DiGraph, node_ids: Iterable[Any]) -> scipy.spatial.KDTree:\n",
    "    positions = [cand_graph.nodes[node][\"pos\"] for node in node_ids]\n",
    "    return scipy.spatial.KDTree(positions)\n",
    "\n",
    "def add_cand_edges(\n",
    "    cand_graph: nx.DiGraph,\n",
    "    max_edge_distance: float,\n",
    ") -> None:\n",
    "    \"\"\"Add candidate edges to a candidate graph by connecting all nodes in adjacent\n",
    "    frames that are closer than max_edge_distance. Also adds attributes to the edges.\n",
    "\n",
    "    Args:\n",
    "        cand_graph (nx.DiGraph): Candidate graph with only nodes populated. Will\n",
    "            be modified in-place to add edges.\n",
    "        max_edge_distance (float): Maximum distance that objects can travel between\n",
    "            frames. All nodes within this distance in adjacent frames will by connected\n",
    "            with a candidate edge.\n",
    "        node_frame_dict (dict[int, list[Any]] | None, optional): A mapping from frames\n",
    "            to node ids. If not provided, it will be computed from cand_graph. Defaults\n",
    "            to None.\n",
    "    \"\"\"\n",
    "    print(\"Extracting candidate edges\")\n",
    "    node_frame_dict = _compute_node_frame_dict(cand_graph)\n",
    "\n",
    "    frames = sorted(node_frame_dict.keys())\n",
    "    prev_node_ids = node_frame_dict[frames[0]]\n",
    "    prev_kdtree = create_kdtree(cand_graph, prev_node_ids)\n",
    "    for frame in tqdm(frames):\n",
    "        if frame + 1 not in node_frame_dict:\n",
    "            continue\n",
    "        next_node_ids = node_frame_dict[frame + 1]\n",
    "        next_kdtree = create_kdtree(cand_graph, next_node_ids)\n",
    "\n",
    "        matched_indices = prev_kdtree.query_ball_tree(next_kdtree, max_edge_distance)\n",
    "\n",
    "        for prev_node_id, next_node_indices in zip(prev_node_ids, matched_indices):\n",
    "            for next_node_index in next_node_indices:\n",
    "                next_node_id = next_node_ids[next_node_index]\n",
    "                cand_graph.add_edge(prev_node_id, next_node_id)\n",
    "\n",
    "        prev_node_ids = next_node_ids\n",
    "        prev_kdtree = next_kdtree\n",
    "\n",
    "add_cand_edges(cand_graph, max_edge_distance=50)\n",
    "cand_trackgraph = motile.TrackGraph(cand_graph, frame_attribute=\"time\")"
   ]
  },
  {
   "cell_type": "markdown",
   "id": "31688137",
   "metadata": {},
   "source": [
    "## Checkpoint 1\n",
    "<div class=\"alert alert-block alert-success\"><h3>Checkpoint 1: We have visualized our data in napari and set up a candidate graph with all possible detections and links that we could select with our optimization task. </h3>\n",
    "\n",
    "We will now together go through the `motile` <a href=https://funkelab.github.io/motile/quickstart.html#sec-quickstart>quickstart</a> example before you actually set up and run your own motile optimization.\n",
    "</div>"
   ]
  },
  {
   "cell_type": "markdown",
   "id": "9d1e9f70",
   "metadata": {},
   "source": [
    "## Setting Up the Tracking Optimization Problem"
   ]
  },
  {
   "cell_type": "markdown",
   "id": "36047186",
   "metadata": {},
   "source": [
    "As hinted earlier, our goal is to prune the candidate graph. More formally we want to find a graph $\\tilde{G}=(\\tilde{V}, \\tilde{E})$ whose vertices $\\tilde{V}$ are a subset of the candidate graph vertices $V$ and whose edges $\\tilde{E}$ are a subset of the candidate graph edges $E$.\n",
    "\n",
    "\n",
    "Finding a good subgraph $\\tilde{G}=(\\tilde{V}, \\tilde{E})$ can be formulated as an [integer linear program (ILP)](https://en.wikipedia.org/wiki/Integer_programming) (also, refer to the tracking lecture slides), where we assign a binary variable $x$ and a cost $c$ to each vertex and edge in $G$, and then computing $min_x c^Tx$.\n",
    "\n",
    "A set of linear constraints ensures that the solution will be a feasible cell tracking graph. For example, if an edge is part of $\\tilde{G}$, both its incident nodes have to be part of $\\tilde{G}$ as well.\n",
    "\n",
    "`motile` ([docs here](https://funkelab.github.io/motile/)), makes it easy to link with an ILP in python by implementing commong linking constraints and costs. "
   ]
  },
  {
   "cell_type": "markdown",
   "id": "f3a9e596",
   "metadata": {},
   "source": [
    "## Task 3 - Basic Tracking with Motile\n",
    "<div class=\"alert alert-block alert-info\"><h3>Task 3: Set up a basic motile tracking pipeline</h3>\n",
    "<p>Use the motile <a href=https://funkelab.github.io/motile/quickstart.html#sec-quickstart>quickstart</a> example to set up a basic motile pipeline for our task. Then run the function and find hyperparmeters that give you tracks.</p>\n",
    "</div>\n"
   ]
  },
  {
   "cell_type": "code",
   "execution_count": null,
   "id": "08566a9e",
   "metadata": {},
   "outputs": [],
   "source": [
    "def solve_basic_optimization(graph, edge_weight, edge_constant):\n",
    "    \"\"\"Set up and solve the network flow problem.\n",
    "\n",
    "    Args:\n",
    "        graph (motile.TrackGraph): The candidate graph.\n",
    "        edge_weight (float): The weighting factor of the edge selection cost.\n",
    "        edge_constant(float): The constant cost of selecting any edge.\n",
    "\n",
    "    Returns:\n",
    "        motile.Solver: The solver object, ready to be inspected.\n",
    "    \"\"\"\n",
    "    solver = motile.Solver(graph)\n",
    "    ### YOUR CODE HERE ###\n",
    "    solution = solver.solve()\n",
    "\n",
    "    return solver"
   ]
  },
  {
   "cell_type": "markdown",
   "id": "1669d984",
   "metadata": {},
   "source": [
    "Here is a utility function to gauge some statistics of a solution."
   ]
  },
  {
   "cell_type": "code",
   "execution_count": null,
   "id": "30115ba0",
   "metadata": {},
   "outputs": [],
   "source": [
    "from motile_toolbox.candidate_graph import graph_to_nx\n",
    "def print_solution_stats(solver, graph, gt_graph):\n",
    "    \"\"\"Prints the number of nodes and edges for candidate, ground truth graph, and solution graph.\n",
    "\n",
    "    Args:\n",
    "        solver: motile.Solver, after calling solver.solve()\n",
    "        graph: motile.TrackGraph, candidate graph\n",
    "        gt_graph: motile.TrackGraph, ground truth graph\n",
    "    \"\"\"\n",
    "    time.sleep(0.1)  # to wait for ilpy prints\n",
    "    print(\n",
    "        f\"\\nCandidate graph\\t\\t{len(graph.nodes):3} nodes\\t{len(graph.edges):3} edges\"\n",
    "    )\n",
    "    print(\n",
    "        f\"Ground truth graph\\t{len(gt_graph.nodes):3} nodes\\t{len(gt_graph.edges):3} edges\"\n",
    "    )\n",
    "    solution = graph_to_nx(solver.get_selected_subgraph())\n",
    "\n",
    "    print(f\"Solution graph\\t\\t{solution.number_of_nodes()} nodes\\t{solution.number_of_edges()} edges\")"
   ]
  },
  {
   "cell_type": "markdown",
   "id": "6108a9ba",
   "metadata": {},
   "source": [
    "Here we actually run the optimization, and compare the found solution to the ground truth.\n",
    "\n",
    "<div class=\"alert alert-block alert-warning\"><h3>Gurobi license error</h3>\n",
    "Please ignore the warning `Could not create Gurobi backend ...`.\n",
    "\n",
    "\n",
    "Our integer linear program (ILP) tries to use the proprietary solver Gurobi. You probably don't have a license, in which case the ILP will fall back to the open source solver SCIP.\n",
    "</div>"
   ]
  },
  {
   "cell_type": "markdown",
   "id": "b1b3cb6b",
   "metadata": {},
   "source": [
    "## Visualize the Result"
   ]
  },
  {
   "cell_type": "code",
   "execution_count": null,
   "id": "c2c84dd6",
   "metadata": {},
   "outputs": [],
   "source": [
    "tracks_layer = to_napari_tracks_layer(solution_graph, frame_key=\"time\", location_key=\"pos\", name=\"solution_tracks\")\n",
    "viewer.add_layer(tracks_layer)"
   ]
  },
  {
   "cell_type": "markdown",
   "id": "8cf368c4",
   "metadata": {
    "lines_to_next_cell": 2
   },
   "source": [
    "### Recolor detections in napari according to solution and compare to ground truth"
   ]
  },
  {
   "cell_type": "code",
   "execution_count": null,
   "id": "0a08ec02",
   "metadata": {},
   "outputs": [],
   "source": [
    "def relabel_segmentation(\n",
    "    solution_nx_graph: nx.DiGraph,\n",
    "    segmentation: np.ndarray,\n",
    ") -> np.ndarray:\n",
    "    \"\"\"Relabel a segmentation based on tracking results so that nodes in same\n",
    "    track share the same id. IDs do change at division.\n",
    "\n",
    "    Args:\n",
    "        solution_nx_graph (nx.DiGraph): Networkx graph with the solution to use\n",
    "            for relabeling. Nodes not in graph will be removed from seg. Original\n",
    "            segmentation ids and hypothesis ids have to be stored in the graph so we\n",
    "            can map them back.\n",
    "        segmentation (np.ndarray): Original (potentially multi-hypothesis)\n",
    "            segmentation with dimensions (t,h,[z],y,x), where h is 1 for single\n",
    "            input segmentation.\n",
    "\n",
    "    Returns:\n",
    "        np.ndarray: Relabeled segmentation array where nodes in same track share same\n",
    "            id with shape (t,1,[z],y,x)\n",
    "    \"\"\"\n",
    "    tracked_masks = np.zeros_like(segmentation)\n",
    "    id_counter = 1\n",
    "    parent_nodes = [n for (n, d) in solution_nx_graph.out_degree() if d > 1]\n",
    "    soln_copy = solution_nx_graph.copy()\n",
    "    for parent_node in parent_nodes:\n",
    "        out_edges = solution_nx_graph.out_edges(parent_node)\n",
    "        soln_copy.remove_edges_from(out_edges)\n",
    "    for node_set in nx.weakly_connected_components(soln_copy):\n",
    "        for node in node_set:\n",
    "            time_frame = solution_nx_graph.nodes[node][\"time\"]\n",
    "            previous_seg_id = node\n",
    "            previous_seg_mask = (\n",
    "                segmentation[time_frame] == previous_seg_id\n",
    "            )\n",
    "            tracked_masks[time_frame][previous_seg_mask] = id_counter\n",
    "        id_counter += 1\n",
    "    return tracked_masks\n",
    "\n",
    "\n",
    "solution_seg = relabel_segmentation(solution_graph, segmentation)\n",
    "viewer.add_labels(solution_seg, name=\"solution_seg\")"
   ]
  },
  {
   "cell_type": "code",
   "execution_count": null,
   "id": "8876ace1",
   "metadata": {
    "lines_to_next_cell": 2
   },
   "outputs": [],
   "source": [
    "# viewer = napari.viewer.current_viewer()\n",
    "# if viewer:\n",
    "#     viewer.close()"
   ]
  },
  {
   "cell_type": "markdown",
   "id": "8e5abee0",
   "metadata": {},
   "source": [
    "## Checkpoint 2\n",
    "<div class=\"alert alert-block alert-success\"><h3>Checkpoint 2</h3>\n",
    "We have set up and run a basic ILP to get tracks and visualized the output.  \n",
    "Based on the visualization, how good is this ILP? What types of errors does it make? Why do you think it performs well or poorly?\n",
    "\n",
    "We will discuss this together soon, so think about possible improvements if you have extra time.\n",
    "</div>"
   ]
  },
  {
   "cell_type": "markdown",
   "id": "eaf45e54",
   "metadata": {
    "lines_to_next_cell": 2
   },
   "source": [
    "## Evaluation Metrics\n",
    "\n",
    "We were able to understand via visualizing the predicted tracks on the images that the basic solution is far from perfect for this problem.\n",
    "\n",
    "Additionally, we would also like to quantify this. We will use the package [`traccuracy`](https://traccuracy.readthedocs.io/en/latest/) to calculate some [standard metrics for cell tracking](http://celltrackingchallenge.net/evaluation-methodology/). For example, a high-level indicator for tracking performance is called TRA.\n",
    "\n",
    "If you're interested in more detailed metrics, you can check out for example the false positive (FP) and false negative (FN) nodes, edges and division events."
   ]
  },
  {
   "cell_type": "code",
   "execution_count": null,
   "id": "735dbe2a",
   "metadata": {},
   "outputs": [],
   "source": [
    "def get_metrics(gt_graph, labels, pred_graph, pred_segmentation):\n",
    "    \"\"\"Calculate metrics for linked tracks by comparing to ground truth.\n",
    "\n",
    "    Args:\n",
    "        gt_graph (networkx.DiGraph): Ground truth graph.\n",
    "        labels (np.ndarray): Ground truth detections.\n",
    "        pred_graph (networkx.DiGraph): Predicted graph.\n",
    "        pred_segmentation (np.ndarray): Predicted dense segmentation.\n",
    "\n",
    "    Returns:\n",
    "        results (dict): Dictionary of metric results.\n",
    "    \"\"\"\n",
    "\n",
    "    gt_graph = traccuracy.TrackingGraph(\n",
    "        graph=gt_graph,\n",
    "        frame_key=\"time\",\n",
    "        label_key=\"show\",\n",
    "        location_keys=(\"x\", \"y\"),\n",
    "        segmentation=labels,\n",
    "    )\n",
    "\n",
    "    pred_graph = traccuracy.TrackingGraph(\n",
    "        graph=pred_graph,\n",
    "        frame_key=\"time\",\n",
    "        label_key=\"show\",\n",
    "        location_keys=(\"x\", \"y\"),\n",
    "        segmentation=pred_segmentation,\n",
    "    )\n",
    "\n",
    "    results = run_metrics(\n",
    "        gt_data=gt_graph,\n",
    "        pred_data=pred_graph,\n",
    "        matcher=CTCMatcher(),\n",
    "        metrics=[CTCMetrics(), DivisionMetrics()],\n",
    "    )\n",
    "\n",
    "    return results"
   ]
  },
  {
   "cell_type": "code",
   "execution_count": null,
   "id": "15629dbc",
   "metadata": {},
   "outputs": [],
   "source": [
    "get_metrics(gt_nx_graph, None, solution_graph, solution_seg)"
   ]
  },
  {
   "cell_type": "markdown",
   "id": "1f1126ec",
   "metadata": {},
   "source": [
    "## Task 4 - Add an appear cost, but not at the boundary\n",
    "The [Appear](https://funkelab.github.io/motile/api.html#motile.costs.Appear_) cost penalizes starting a new track, encouraging continuous tracks. However, you do not want to penalize tracks that appear in the first frame. In our case, we probably also do not want to penalize appearing at the \"bottom\" of the dataset. The built in Appear cost has an `ignore_attribute` argument, where if the node has that attribute and it evaluates to True, the Appear cost will not be paid for that node.\n",
    "\n",
    "<div class=\"alert alert-block alert-info\"><h3>Task 4: Add an appear cost, but not at the boundary</h3>\n",
    "<p> Add an attribute to the nodes of our candidate graph that is True if the appear cost should NOT be paid for that node, and False (or not present) otherwise. Then add an Appear cost to our motile pipeline using our new attribute as the `ignore_attribute` argument, and re-solve to see if performance improves.</p>\n",
    "</div>"
   ]
  },
  {
   "cell_type": "code",
   "execution_count": null,
   "id": "034e5f6f",
   "metadata": {},
   "outputs": [],
   "source": [
    "def add_appear_ignore_attr(cand_graph):\n",
    "    ### YOUR CODE HERE ###\n",
    "    pass  # delete this\n",
    "\n",
    "add_appear_ignore_attr(cand_graph)"
   ]
  },
  {
   "cell_type": "code",
   "execution_count": null,
   "id": "698326ae",
   "metadata": {},
   "outputs": [],
   "source": [
    "def solve_appear_optimization(graph, edge_weight, edge_constant):\n",
    "    \"\"\"Set up and solve the network flow problem.\n",
    "\n",
    "    Args:\n",
    "        graph (motile.TrackGraph): The candidate graph.\n",
    "        edge_weight (float): The weighting factor of the edge selection cost.\n",
    "        edge_constant(float): The constant cost of selecting any edge.\n",
    "\n",
    "    Returns:\n",
    "        motile.Solver: The solver object, ready to be inspected.\n",
    "    \"\"\"\n",
    "    solver = motile.Solver(graph)\n",
    "\n",
    "    solver.add_costs(\n",
    "        motile.costs.EdgeDistance(weight=edge_weight, constant=edge_constant, position_attribute=\"pos\")\n",
    "    )\n",
    "    solver.add_costs(\n",
    "        motile.costs.Appear(constant=50, ignore_attribute=\"ignore_appear\") \n",
    "    )\n",
    "\n",
    "    solver.add_constraints(motile.constraints.MaxParents(1))\n",
    "    solver.add_constraints(motile.constraints.MaxChildren(2))\n",
    "\n",
    "    solution = solver.solve()\n",
    "\n",
    "    return solver\n",
    "\n",
    "solver = solve_appear_optimization(cand_trackgraph, 1, -20)\n",
    "solution_graph = graph_to_nx(solver.get_selected_subgraph())"
   ]
  },
  {
   "cell_type": "code",
   "execution_count": null,
   "id": "7e19a4c2",
   "metadata": {},
   "outputs": [],
   "source": [
    "tracks_layer = to_napari_tracks_layer(solution_graph, frame_key=\"time\", location_key=\"pos\", name=\"solution_appear_tracks\")\n",
    "viewer.add_layer(tracks_layer)\n",
    "solution_seg = relabel_segmentation(solution_graph, segmentation)\n",
    "viewer.add_labels(solution_seg, name=\"solution_appear_seg\")"
   ]
  },
  {
   "cell_type": "code",
   "execution_count": null,
   "id": "5827fd7f",
   "metadata": {},
   "outputs": [],
   "source": [
    "get_metrics(gt_tracks, None, solution_graph, solution_seg)"
   ]
  },
  {
   "cell_type": "markdown",
   "id": "b3ede2e8",
   "metadata": {},
   "source": [
    "## Checkpoint 3\n",
    "<div class=\"alert alert-block alert-success\"><h3>Checkpoint 3</h3>\n",
    "We have run an ILP to get tracks, visualized the output, evaluated the results, and added an Appear cost that does not take effect at the boundary. If you reach this Checkpoint early, try adjusting your weights or using different combinations of built-in Costs and Constraints to get better results. Also consider custom Costs or Constraints that would help for this task!\n",
    "\n",
    "When most people have reached this checkpoint, we will go around and\n",
    "share what worked and what did not, and discuss ideas for custom costs or constraints.\n",
    "</div>"
   ]
  },
  {
   "cell_type": "markdown",
   "id": "57715421",
   "metadata": {},
   "source": [
    "## Customizing the Tracking Task\n",
    "\n",
    "There 3 main ways to encode prior knowledge about your task into the motile tracking pipeline.\n",
    "1. Add an attribute to the candidate graph and incorporate it with a Selection cost\n",
    "2. Change the structure of the candidate graph\n",
    "3. Add a new type of cost or constraint"
   ]
  },
  {
   "cell_type": "markdown",
   "id": "263a79b9",
   "metadata": {},
   "source": [
    "## Task 5 - Incorporating Known Direction of Motion\n",
    "\n",
    "Motile has built in the EdgeDistance as an edge selection cost, which penalizes longer edges by computing the Euclidean distance between the endpoints. However, in our dataset we see a trend of upward motion in the cells, and the false detections at the top are not moving. If we penalize movement based on what we expect, rather than Euclidean distance, we can select more correct cells and penalize the non-moving artefacts at the same time.\n",
    " \n",
    "<div class=\"alert alert-block alert-info\"><h3>Task 5: Incorporating known direction of motion</h3>\n",
    "<p> For this task, we need to determine the \"expected\" amount of motion, then add an attribute to our candidate edges that represents distance from the expected motion direction. Finally, we can incorporate that feature into the ILP via the EdgeSelection cost and see if it improves performance.</p>\n",
    "</div>"
   ]
  },
  {
   "cell_type": "code",
   "execution_count": null,
   "id": "1d70461d",
   "metadata": {},
   "outputs": [],
   "source": [
    "drift = ... ### YOUR CODE HERE ###\n",
    "\n",
    "def add_drift_dist_attr(cand_graph, drift):\n",
    "    for edge in cand_graph.edges():\n",
    "        ### YOUR CODE HERE ###\n",
    "        # get the location of the endpoints of the edge\n",
    "        # then compute the distance between the expected movement and the actual movement\n",
    "        # and save it in the \"drift_dist\" attribute (below)\n",
    "        cand_graph.edges[edge][\"drift_dist\"] = drift_dist\n",
    "\n",
    "add_drift_dist_attr(cand_graph, drift)\n",
    "cand_trackgraph = motile.TrackGraph(cand_graph, frame_attribute=\"time\")"
   ]
  },
  {
   "cell_type": "code",
   "execution_count": null,
   "id": "33662491",
   "metadata": {},
   "outputs": [],
   "source": [
    "def solve_drift_optimization(graph, edge_weight, edge_constant):\n",
    "    \"\"\"Set up and solve the network flow problem.\n",
    "\n",
    "    Args:\n",
    "        graph (motile.TrackGraph): The candidate graph.\n",
    "        edge_weight (float): The weighting factor of the edge selection cost.\n",
    "        edge_constant(float): The constant cost of selecting any edge.\n",
    "\n",
    "    Returns:\n",
    "        motile.Solver: The solver object, ready to be inspected.\n",
    "    \"\"\"\n",
    "    solver = motile.Solver(graph)\n",
    "\n",
    "    solver.add_costs(\n",
    "        motile.costs.EdgeSelection(weight=edge_weight, constant=edge_constant, attribute=\"drift_dist\")\n",
    "    )\n",
    "    solver.add_costs(\n",
    "        motile.costs.Appear(constant=50, ignore_attribute=\"ignore_appear\") \n",
    "    )\n",
    "\n",
    "    solver.add_constraints(motile.constraints.MaxParents(1))\n",
    "    solver.add_constraints(motile.constraints.MaxChildren(2))\n",
    "\n",
    "    solution = solver.solve()\n",
    "\n",
    "    return solver\n",
    "\n",
    "solver = solve_drift_optimization(cand_trackgraph, 1, -20)\n",
    "solution_graph = graph_to_nx(solver.get_selected_subgraph())"
   ]
  },
  {
   "cell_type": "code",
   "execution_count": null,
   "id": "82fe31b2",
   "metadata": {},
   "outputs": [],
   "source": [
    "tracks_layer = to_napari_tracks_layer(solution_graph, frame_key=\"time\", location_key=\"pos\", name=\"solution_tracks_with_drift\")\n",
    "viewer.add_layer(tracks_layer)\n",
    "\n",
    "solution_seg = relabel_segmentation(solution_graph, segmentation)\n",
    "viewer.add_labels(solution_seg, name=\"solution_seg_with_drift\")"
   ]
  },
  {
   "cell_type": "code",
   "execution_count": null,
   "id": "f587e5b4",
   "metadata": {},
   "outputs": [],
   "source": [
    "get_metrics(gt_nx_graph, None, solution_graph, solution_seg)"
   ]
  },
  {
   "cell_type": "markdown",
   "id": "1892837e",
   "metadata": {},
   "source": [
    "## Checkpoint 4\n",
    "<div class=\"alert alert-block alert-success\"><h3>Checkpoint 4</h3>\n",
    "That is the end of the main exercise! If you have extra time, feel free to go onto the below bonus exercise to see how to learn the weights of your costs instead of setting them manually.\n",
    "</div>"
   ]
  },
  {
   "cell_type": "markdown",
   "id": "bbb95819",
   "metadata": {},
   "source": [
    "## Bonus: Learning the Weights"
   ]
  },
  {
   "cell_type": "markdown",
   "id": "a3c1e145",
   "metadata": {},
   "source": []
  }
 ],
 "metadata": {
  "jupytext": {
   "cell_metadata_filter": "all",
   "custom_cell_magics": "kql",
   "formats": "py:percent,ipynb"
  },
  "kernelspec": {
   "display_name": "Python 3 (ipykernel)",
   "language": "python",
   "name": "python3"
  }
 },
 "nbformat": 4,
 "nbformat_minor": 5
}
